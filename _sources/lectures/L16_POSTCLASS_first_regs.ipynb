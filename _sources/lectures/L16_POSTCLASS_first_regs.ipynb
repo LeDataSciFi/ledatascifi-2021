{
 "cells": [
  {
   "cell_type": "code",
   "execution_count": 1,
   "metadata": {},
   "outputs": [],
   "source": [
    "import pandas as pd\n",
    "from statsmodels.formula.api import ols as sm_ols\n",
    "import numpy as np\n",
    "import seaborn as sns\n"
   ]
  },
  {
   "cell_type": "code",
   "execution_count": 2,
   "metadata": {},
   "outputs": [],
   "source": [
    "url = 'https://github.com/LeDataSciFi/ledatascifi-2021/blob/main/data/Fannie_Mae_Plus_Data.gzip?raw=true'\n",
    "fannie_mae = pd.read_csv(url,compression='gzip') "
   ]
  },
  {
   "cell_type": "markdown",
   "metadata": {},
   "source": [
    "## Clean the data and create variables you want"
   ]
  },
  {
   "cell_type": "code",
   "execution_count": 3,
   "metadata": {},
   "outputs": [],
   "source": [
    "fannie_mae = (fannie_mae\n",
    "                  # create variables\n",
    "                  .assign(l_credscore = np.log(fannie_mae['Borrower_Credit_Score_at_Origination']),\n",
    "                          l_LTV = np.log(fannie_mae['Original_LTV_(OLTV)']),\n",
    "                          Origination_Date = lambda x: pd.to_datetime(x['Origination_Date']),\n",
    "                          Origination_Year = lambda x: x['Origination_Date'].dt.year,\n",
    "                          const = 1\n",
    "                         )\n",
    "              \n",
    "             )\n",
    "\n",
    "# create a categorical credit bin var with \"pd.cut()\"\n",
    "fannie_mae['creditbins']= pd.cut(fannie_mae['Co-borrower_credit_score_at_origination'],\n",
    "                                 [0,579,669,739,799,850],\n",
    "                                 labels=['Very Poor','Fair','Good','Very Good','Exceptional'])\n"
   ]
  },
  {
   "cell_type": "markdown",
   "metadata": {},
   "source": [
    "## Statsmodels\n",
    "\n",
    "Psuedocode:\n",
    "```python\n",
    "model = sm_ols(<formula>, data=<dataframe>)\n",
    "result=model.fit()\n",
    "\n",
    "# you use result to print summary, get predicted values (.predict) or residuals (.resid)\n",
    "```\n",
    "\n",
    "Here, I juse chain the model, fit, and summary into one command:"
   ]
  },
  {
   "cell_type": "code",
   "execution_count": 4,
   "metadata": {},
   "outputs": [
    {
     "name": "stdout",
     "output_type": "stream",
     "text": [
      "                              OLS Regression Results                              \n",
      "==================================================================================\n",
      "Dep. Variable:     Original_Interest_Rate   R-squared:                       0.126\n",
      "Model:                                OLS   Adj. R-squared:                  0.126\n",
      "Method:                     Least Squares   F-statistic:                 1.938e+04\n",
      "Date:                    Wed, 31 Mar 2021   Prob (F-statistic):               0.00\n",
      "Time:                            12:47:41   Log-Likelihood:            -2.1575e+05\n",
      "No. Observations:                  134481   AIC:                         4.315e+05\n",
      "Df Residuals:                      134479   BIC:                         4.315e+05\n",
      "Df Model:                               1                                         \n",
      "Covariance Type:                nonrobust                                         \n",
      "========================================================================================================\n",
      "                                           coef    std err          t      P>|t|      [0.025      0.975]\n",
      "--------------------------------------------------------------------------------------------------------\n",
      "Intercept                               11.5819      0.046    253.270      0.000      11.492      11.671\n",
      "Borrower_Credit_Score_at_Origination    -0.0086   6.14e-05   -139.198      0.000      -0.009      -0.008\n",
      "==============================================================================\n",
      "Omnibus:                     2660.479   Durbin-Watson:                   0.397\n",
      "Prob(Omnibus):                  0.000   Jarque-Bera (JB):             2660.737\n",
      "Skew:                           0.321   Prob(JB):                         0.00\n",
      "Kurtosis:                       2.750   Cond. No.                     1.04e+04\n",
      "==============================================================================\n",
      "\n",
      "Notes:\n",
      "[1] Standard Errors assume that the covariance matrix of the errors is correctly specified.\n",
      "[2] The condition number is large, 1.04e+04. This might indicate that there are\n",
      "strong multicollinearity or other numerical problems.\n",
      "                              OLS Regression Results                              \n",
      "==================================================================================\n",
      "Dep. Variable:     Original_Interest_Rate   R-squared:                       0.126\n",
      "Model:                                OLS   Adj. R-squared:                  0.126\n",
      "Method:                     Least Squares   F-statistic:                     9656.\n",
      "Date:                    Wed, 31 Mar 2021   Prob (F-statistic):               0.00\n",
      "Time:                            12:47:41   Log-Likelihood:            -2.1578e+05\n",
      "No. Observations:                  134481   AIC:                         4.316e+05\n",
      "Df Residuals:                      134478   BIC:                         4.316e+05\n",
      "Df Model:                               2                                         \n",
      "Covariance Type:                nonrobust                                         \n",
      "===============================================================================\n",
      "                  coef    std err          t      P>|t|      [0.025      0.975]\n",
      "-------------------------------------------------------------------------------\n",
      "Intercept      44.1324      0.302    145.949      0.000      43.540      44.725\n",
      "l_credscore    -5.9859      0.044   -134.888      0.000      -6.073      -5.899\n",
      "l_LTV           0.1546      0.010     14.765      0.000       0.134       0.175\n",
      "==============================================================================\n",
      "Omnibus:                     2793.369   Durbin-Watson:                   0.386\n",
      "Prob(Omnibus):                  0.000   Jarque-Bera (JB):             2743.990\n",
      "Skew:                           0.321   Prob(JB):                         0.00\n",
      "Kurtosis:                       2.720   Cond. No.                         735.\n",
      "==============================================================================\n",
      "\n",
      "Notes:\n",
      "[1] Standard Errors assume that the covariance matrix of the errors is correctly specified.\n",
      "                              OLS Regression Results                              \n",
      "==================================================================================\n",
      "Dep. Variable:     Original_Interest_Rate   R-squared:                       0.127\n",
      "Model:                                OLS   Adj. R-squared:                  0.127\n",
      "Method:                     Least Squares   F-statistic:                     6521.\n",
      "Date:                    Wed, 31 Mar 2021   Prob (F-statistic):               0.00\n",
      "Time:                            12:47:41   Log-Likelihood:            -2.1567e+05\n",
      "No. Observations:                  134481   AIC:                         4.313e+05\n",
      "Df Residuals:                      134477   BIC:                         4.314e+05\n",
      "Df Model:                               3                                         \n",
      "Covariance Type:                nonrobust                                         \n",
      "=====================================================================================\n",
      "                        coef    std err          t      P>|t|      [0.025      0.975]\n",
      "-------------------------------------------------------------------------------------\n",
      "Intercept           -16.8119      4.111     -4.090      0.000     -24.869      -8.755\n",
      "l_credscore           3.2155      0.621      5.182      0.000       1.999       4.432\n",
      "l_LTV                14.6120      0.973     15.024      0.000      12.706      16.518\n",
      "l_credscore:l_LTV    -2.1830      0.147    -14.866      0.000      -2.471      -1.895\n",
      "==============================================================================\n",
      "Omnibus:                     2756.628   Durbin-Watson:                   0.389\n",
      "Prob(Omnibus):                  0.000   Jarque-Bera (JB):             2719.875\n",
      "Skew:                           0.321   Prob(JB):                         0.00\n",
      "Kurtosis:                       2.727   Cond. No.                     3.77e+04\n",
      "==============================================================================\n",
      "\n",
      "Notes:\n",
      "[1] Standard Errors assume that the covariance matrix of the errors is correctly specified.\n",
      "[2] The condition number is large, 3.77e+04. This might indicate that there are\n",
      "strong multicollinearity or other numerical problems.\n",
      "                              OLS Regression Results                              \n",
      "==================================================================================\n",
      "Dep. Variable:     Original_Interest_Rate   R-squared:                       0.114\n",
      "Model:                                OLS   Adj. R-squared:                  0.114\n",
      "Method:                     Least Squares   F-statistic:                     2163.\n",
      "Date:                    Wed, 31 Mar 2021   Prob (F-statistic):               0.00\n",
      "Time:                            12:47:41   Log-Likelihood:            -1.0900e+05\n",
      "No. Observations:                   67366   AIC:                         2.180e+05\n",
      "Df Residuals:                       67361   BIC:                         2.181e+05\n",
      "Df Model:                               4                                         \n",
      "Covariance Type:                nonrobust                                         \n",
      "================================================================================================\n",
      "                                   coef    std err          t      P>|t|      [0.025      0.975]\n",
      "------------------------------------------------------------------------------------------------\n",
      "Intercept                        6.6489      0.081     81.903      0.000       6.490       6.808\n",
      "C(creditbins)[T.Fair]           -0.6281      0.083     -7.580      0.000      -0.791      -0.466\n",
      "C(creditbins)[T.Good]           -1.1682      0.082    -14.297      0.000      -1.328      -1.008\n",
      "C(creditbins)[T.Very Good]      -1.6461      0.081    -20.210      0.000      -1.806      -1.486\n",
      "C(creditbins)[T.Exceptional]    -2.2455      0.082    -27.362      0.000      -2.406      -2.085\n",
      "==============================================================================\n",
      "Omnibus:                     1462.240   Durbin-Watson:                   0.385\n",
      "Prob(Omnibus):                  0.000   Jarque-Bera (JB):             1457.225\n",
      "Skew:                           0.334   Prob(JB):                         0.00\n",
      "Kurtosis:                       2.732   Cond. No.                         45.4\n",
      "==============================================================================\n",
      "\n",
      "Notes:\n",
      "[1] Standard Errors assume that the covariance matrix of the errors is correctly specified.\n"
     ]
    }
   ],
   "source": [
    "# one var: 'y ~ x' means fit y = a + b*X\n",
    "print(sm_ols('Original_Interest_Rate ~  Borrower_Credit_Score_at_Origination ',  \n",
    "               data=fannie_mae).fit().summary())\n",
    "\n",
    "# multiple variables: just add them to the formula\n",
    "# 'y ~ x1 + x2' means fit y = a + b*x1 + c*x2\n",
    "print(sm_ols('Original_Interest_Rate ~  l_credscore + l_LTV ',  \n",
    "               data=fannie_mae).fit().summary())\n",
    "\n",
    "# interaction terms: Just use *\n",
    "# Note: always include each variable separately too! (not just x1*x2, but x1+x2+x1*x2)\n",
    "print(sm_ols('Original_Interest_Rate ~  l_credscore + l_LTV + l_credscore*l_LTV',  \n",
    "               data=fannie_mae).fit().summary())\n",
    "\n",
    "# categorical dummies: C() \n",
    "print(sm_ols('Original_Interest_Rate ~  C(creditbins)  ',  \n",
    "             data=fannie_mae).fit().summary())\n"
   ]
  },
  {
   "cell_type": "markdown",
   "metadata": {},
   "source": [
    "## Sk-learn (scikit-learn)\n",
    "\n",
    "Let's replicate all the sm regressions inside sklearn\n",
    "\n",
    "Psuedocode:\n",
    "```python\n",
    "<set up your y and X explicitly, and DROP missing values!>\n",
    "\n",
    "model = LinearRegression()\n",
    "result=model.fit(X,y)\n",
    "\n",
    "# you use result object to print intercept, coefficents, and predict y\n",
    "# note that prediction is different than with SM: .predict(X) <-- you need to put X inside the predict\n",
    "\n",
    "```\n",
    "\n",
    "Here, I juse chain the model, fit, and summary into one command:"
   ]
  },
  {
   "cell_type": "code",
   "execution_count": 5,
   "metadata": {},
   "outputs": [
    {
     "name": "stdout",
     "output_type": "stream",
     "text": [
      "INTERCEPT: 11.581857988176296\n",
      "COEFS: [-0.00855164]\n",
      "it matches statsmodel regression #1 above! \n",
      "\n",
      "\n",
      "INTERCEPT: 44.13238868430127\n",
      "COEFS: [ 0.15462774 -5.98589814]\n",
      "it matches statsmodel regression #2 above! \n",
      "\n",
      "\n",
      "INTERCEPT: -16.811895362286506\n",
      "COEFS: [14.61196285  3.2154758  -2.18301175]\n",
      "it matches statsmodel regression #3 above! \n",
      "\n",
      "\n",
      "INTERCEPT: 6.648871679203552\n",
      "COEFS: [-0.62812312 -1.16821212 -1.64605869 -2.24550672]\n",
      "it matches statsmodel regression #4 above! \n",
      "\n",
      "\n"
     ]
    }
   ],
   "source": [
    "from sklearn.linear_model import LinearRegression\n",
    "\n",
    "reg_data = (fannie_mae.copy() # copy to ensure we don't change the orig data\n",
    "            # grab y and x vars\n",
    "            [['Borrower_Credit_Score_at_Origination','Original_Interest_Rate']] \n",
    "            # drop those with missing values!\n",
    "            .dropna()\n",
    "           )\n",
    "y = reg_data['Original_Interest_Rate']   \n",
    "X = reg_data[['Borrower_Credit_Score_at_Origination']]\n",
    "\n",
    "model3 = LinearRegression()               # set up the model object (but don't tell sklearn what data it gets!)   \n",
    "results3 = model3.fit(X,y)                # fit it, and tell it what data to fit on\n",
    "print('INTERCEPT:', results3.intercept_)  # to get the coefficients, you print out the intercept\n",
    "print('COEFS:', results3.coef_)           # and the other coefficients separately (yuck)\n",
    "print('it matches statsmodel regression #1 above! \\n\\n')\n",
    "\n",
    "#######################\n",
    "# reg 2:\n",
    "#######################\n",
    "\n",
    "reg_data = (fannie_mae.copy() # copy to ensure we don't change the orig data\n",
    "            # grab y and x vars\n",
    "            [['l_LTV','Original_Interest_Rate','l_credscore']] \n",
    "            # drop those with missing values!\n",
    "            .dropna()\n",
    "           )\n",
    "y = reg_data['Original_Interest_Rate']   \n",
    "X = reg_data[['l_LTV','l_credscore']]\n",
    "\n",
    "model3 = LinearRegression()               # set up the model object (but don't tell sklearn what data it gets!)   \n",
    "results3 = model3.fit(X,y)                # fit it, and tell it what data to fit on\n",
    "print('INTERCEPT:', results3.intercept_)  # to get the coefficients, you print out the intercept\n",
    "print('COEFS:', results3.coef_)           # and the other coefficients separately (yuck)\n",
    "print('it matches statsmodel regression #2 above! \\n\\n')\n",
    "\n",
    "#######################\n",
    "# reg 3: \n",
    "#######################\n",
    "\n",
    "reg_data = (fannie_mae.copy() # copy to ensure we don't change the orig data\n",
    "            # grab y and x vars\n",
    "            [['l_LTV','Original_Interest_Rate','l_credscore']] \n",
    "            # drop those with missing values!\n",
    "            .dropna()\n",
    "            # manually create the interaction term\n",
    "            .assign(l_LTV_X_l_credscore = lambda x: x.l_credscore * x.l_LTV)\n",
    "           )\n",
    "y = reg_data['Original_Interest_Rate']   \n",
    "X = reg_data[['l_LTV','l_credscore','l_LTV_X_l_credscore']]\n",
    "\n",
    "model3 = LinearRegression()               # set up the model object (but don't tell sklearn what data it gets!)   \n",
    "results3 = model3.fit(X,y)                # fit it, and tell it what data to fit on\n",
    "print('INTERCEPT:', results3.intercept_)  # to get the coefficients, you print out the intercept\n",
    "print('COEFS:', results3.coef_)           # and the other coefficients separately (yuck)\n",
    "print('it matches statsmodel regression #3 above! \\n\\n')\n",
    "\n",
    "#######################\n",
    "# reg 4: \n",
    "# either convert categorical var to \"dummies\" in pandas, or use sklearn preprocessing.\n",
    "# we will use preprocessing later in semester, here, let's keep simple: pandas\n",
    "# also: must manually drop one of the variables\n",
    "#######################\n",
    "\n",
    "reg_data = (fannie_mae.copy() # copy to ensure we don't change the orig data\n",
    "            # grab y and x vars\n",
    "            [['Original_Interest_Rate','creditbins']] \n",
    "            # drop those with missing values!\n",
    "            .dropna()\n",
    "           )\n",
    "\n",
    "y = reg_data['Original_Interest_Rate']   # pick y\n",
    "# have to MANUALLY create the categorical dummies, and drop one!\n",
    "reg_data = pd.get_dummies(reg_data,columns=['creditbins'], drop_first = True) \n",
    "X = reg_data.iloc[:,1:]\n",
    "\n",
    "model3 = LinearRegression()               # set up the model object (but don't tell sklearn what data it gets!)   \n",
    "results3 = model3.fit(X,y)                # fit it, and tell it what data to fit on\n",
    "print('INTERCEPT:', results3.intercept_)  # to get the coefficients, you print out the intercept\n",
    "print('COEFS:', results3.coef_)           # and the other coefficients separately (yuck)\n",
    "print('it matches statsmodel regression #4 above! \\n\\n')\n",
    "\n"
   ]
  },
  {
   "cell_type": "markdown",
   "metadata": {},
   "source": [
    "## Plotting the regression lines\n",
    "\n",
    "First with sm. After fitting the model, `y_pred = result.predict()` gets the fitted values.\n",
    "\n",
    "The \"trick\" to notice is that y_pred only has values where X is defined. If X is missing, no y value is predicted, and instead of creating a missing value for y in that spot, it just doesn't create any value. So that means y_pred is a shorter vector than X (X has a bunch of elements that exist even though they are blank). And you can't plot y and X if y and X are different lengths. This is why `.dropna()` is in the plot funciton below for the X vector!"
   ]
  },
  {
   "cell_type": "code",
   "execution_count": 6,
   "metadata": {},
   "outputs": [
    {
     "data": {
      "text/plain": [
       "<AxesSubplot:xlabel='Borrower_Credit_Score_at_Origination'>"
      ]
     },
     "execution_count": 6,
     "metadata": {},
     "output_type": "execute_result"
    },
    {
     "data": {
      "image/png": "[encoded data removed]",
      "text/plain": [
       "<Figure size 432x288 with 1 Axes>"
      ]
     },
     "metadata": {
      "needs_background": "light"
     },
     "output_type": "display_data"
    }
   ],
   "source": [
    "# plot with sm\n",
    "\n",
    "model = sm_ols('Original_Interest_Rate ~  Borrower_Credit_Score_at_Origination ',  \n",
    "               data=fannie_mae)\n",
    "result = model.fit()\n",
    "y_pred = result.predict()\n",
    "\n",
    "sns.lineplot(x=fannie_mae['Borrower_Credit_Score_at_Origination'].dropna(),\n",
    "            y=y_pred)"
   ]
  },
  {
   "cell_type": "markdown",
   "metadata": {},
   "source": [
    "Now with sklearn.\n",
    "\n",
    "**One difference: sklearn wants to know explicitly which values of X should be used with the coefficients from the model. So, after fitting the model, `y_pred = result.predict(X)` gets the fitted values.**\n"
   ]
  },
  {
   "cell_type": "code",
   "execution_count": 7,
   "metadata": {},
   "outputs": [
    {
     "data": {
      "text/plain": [
       "<AxesSubplot:xlabel='Borrower_Credit_Score_at_Origination', ylabel='Original_Interest_Rate'>"
      ]
     },
     "execution_count": 7,
     "metadata": {},
     "output_type": "execute_result"
    },
    {
     "data": {
      "image/png": "[encoded data removed]",
      "text/plain": [
       "<Figure size 432x288 with 1 Axes>"
      ]
     },
     "metadata": {
      "needs_background": "light"
     },
     "output_type": "display_data"
    }
   ],
   "source": [
    "# plot with sklearn \n",
    "\n",
    "reg_data = (fannie_mae.copy() # copy to ensure we don't change the orig data\n",
    "            [['const','Borrower_Credit_Score_at_Origination','Original_Interest_Rate']] \n",
    "            .dropna())\n",
    "y = reg_data['Original_Interest_Rate']   # pick y\n",
    "X = reg_data[['const','Borrower_Credit_Score_at_Origination']]  \n",
    "\n",
    "model = LinearRegression()\n",
    "result = model.fit(X,y)\n",
    "y_pred = result.predict(X)\n",
    "\n",
    "sns.scatterplot(x='Borrower_Credit_Score_at_Origination',\n",
    "                y='Original_Interest_Rate',\n",
    "                data = fannie_mae.dropna().sample(500))\n",
    "sns.lineplot(x=fannie_mae['Borrower_Credit_Score_at_Origination'].dropna(),\n",
    "            y=y_pred)"
   ]
  }
 ],
 "metadata": {
  "kernelspec": {
   "display_name": "Python 3",
   "language": "python",
   "name": "python3"
  },
  "language_info": {
   "codemirror_mode": {
    "name": "ipython",
    "version": 3
   },
   "file_extension": ".py",
   "mimetype": "text/x-python",
   "name": "python",
   "nbconvert_exporter": "python",
   "pygments_lexer": "ipython3",
   "version": "3.8.5"
  }
 },
 "nbformat": 4,
 "nbformat_minor": 4
}
