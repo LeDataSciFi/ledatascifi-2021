{
 "cells": [
  {
   "cell_type": "markdown",
   "metadata": {
    "slideshow": {
     "slide_type": "slide"
    }
   },
   "source": [
    "# Trees and an intro to ensembles\n",
    "\n",
    "1. After reg, and logit, **our \"last\" base model is** [**Trees**](https://scikit-learn.org/stable/modules/tree.html), which are great for [exploiting interactions between variables](https://dachxiu.chicagobooth.edu/download/ML.pdf)\n",
    "1. [Ensembles, via `sklearn.ensemble`](https://scikit-learn.org/stable/modules/classes.html#module-sklearn.ensemble): Supercharging your models\n",
    "    - _Averaging methods:_ Bagging, forests of trees\n",
    "    - _Boosting methods:_ **Gradient Boosting**\n",
    "    - _Stacking:_ combining several distinct estimators\n",
    "\n",
    "The main drawback with ensembles is usually interpretation and imbalanced classification.\n"
   ]
  },
  {
   "cell_type": "markdown",
   "metadata": {
    "slideshow": {
     "slide_type": "slide"
    }
   },
   "source": [
    "## Trees - part 1"
   ]
  },
  {
   "cell_type": "markdown",
   "metadata": {
    "slideshow": {
     "slide_type": "fragment"
    }
   },
   "source": [
    "![](https://i.imgur.com/UUijyoa.gif)"
   ]
  },
  {
   "cell_type": "markdown",
   "metadata": {
    "slideshow": {
     "slide_type": "slide"
    }
   },
   "source": [
    "## Trees\n",
    "\n",
    "https://scikit-learn.org/stable/modules/tree.html#tree\n",
    "\n",
    "| Pros | Cons | \n",
    "| :--- | :--- | \n",
    "| Simple, can visualize | Easy to overfit (thus: stopping decision) | \n",
    "| Little data prep | Unstable/inconsistent (thus: ensemble) |\n",
    "| Somewhat robust to assumptions about data generating process | Doesn't estimate smooth relationships | \n",
    "| | Bad with imbalanced data (thus: balance before fitting) | "
   ]
  },
  {
   "cell_type": "code",
   "execution_count": 20,
   "metadata": {
    "slideshow": {
     "slide_type": "notes"
    }
   },
   "outputs": [],
   "source": [
    "# import lots of functions\n",
    "import pandas as pd\n",
    "import matplotlib.pyplot as plt  \n",
    "\n",
    "from sklearn.model_selection import train_test_split\n",
    "from sklearn.preprocessing import OneHotEncoder \n",
    "from sklearn.compose import ColumnTransformer, make_column_selector\n",
    "from sklearn.preprocessing import StandardScaler \n",
    "from sklearn.linear_model import LogisticRegression\n",
    "from sklearn.pipeline import make_pipeline \n",
    "from sklearn.impute import SimpleImputer\n",
    "from df_after_transform import df_after_transform\n",
    "from sklearn.model_selection import KFold, cross_validate, GridSearchCV\n",
    "from sklearn.metrics import confusion_matrix\n"
   ]
  },
  {
   "cell_type": "code",
   "execution_count": 3,
   "metadata": {
    "slideshow": {
     "slide_type": "notes"
    }
   },
   "outputs": [],
   "source": [
    "# load data \n",
    "loans = pd.read_csv('lendingclub/2013_subsample.zip')\n"
   ]
  },
  {
   "cell_type": "code",
   "execution_count": 4,
   "metadata": {
    "slideshow": {
     "slide_type": "notes"
    }
   },
   "outputs": [],
   "source": [
    "# split to test and train (link to split page/sk docs)\n",
    "\n",
    "# first let's separate y from X\n",
    "y = loans.loan_status == 'Charged Off'\n",
    "y.value_counts()\n",
    "loans = loans.drop('loan_status',axis=1)\n",
    "\n",
    "# stratify will make sure that test/train both have equal fractions of outcome\n",
    "X_train, X_test, y_train, y_test = train_test_split(loans, y, stratify=y, test_size=.2, random_state=0)\n"
   ]
  },
  {
   "cell_type": "code",
   "execution_count": 5,
   "metadata": {
    "slideshow": {
     "slide_type": "notes"
    }
   },
   "outputs": [],
   "source": [
    "## optimize a series of models \n",
    "\n",
    "# set up pipeline to clean each type of variable (1 pipe per var type)\n",
    "\n",
    "numer_pipe = make_pipeline(SimpleImputer(),StandardScaler()) \n",
    "cat_pipe   = make_pipeline(OneHotEncoder(drop='first'))\n",
    "\n",
    "# combine those pipes into \"preprocess\" pipe\n",
    "\n",
    "preproc_pipe = ColumnTransformer(  \n",
    "    [ # arg 1 of ColumnTransformer is a list, so this starts the list\n",
    "    # a tuple for the numerical vars: name, pipe, which vars to apply to\n",
    "    (\"num_impute\", numer_pipe, ['annual_inc']),\n",
    "    # a tuple for the categorical vars: name, pipe, which vars to apply to\n",
    "    (\"cat_trans\", cat_pipe, ['grade'])\n",
    "    ]\n",
    "    , remainder = 'drop' # you either drop or passthrough any vars not modified above\n",
    ")"
   ]
  },
  {
   "cell_type": "markdown",
   "metadata": {
    "slideshow": {
     "slide_type": "subslide"
    }
   },
   "source": [
    "Setting up a tree estimator is the same as anything else!\n",
    "1. Import estimator\n",
    "2. Put into pipeline. Now you're ready to fit or use in CV\n",
    "\n",
    "I've imported the Lending Club data from the prior lecture. "
   ]
  },
  {
   "cell_type": "code",
   "execution_count": 12,
   "metadata": {
    "slideshow": {
     "slide_type": "subslide"
    }
   },
   "outputs": [
    {
     "data": {
      "text/plain": [
       "Pipeline(steps=[('columntransformer',\n",
       "                 ColumnTransformer(transformers=[('num_impute',\n",
       "                                                  Pipeline(steps=[('simpleimputer',\n",
       "                                                                   SimpleImputer()),\n",
       "                                                                  ('standardscaler',\n",
       "                                                                   StandardScaler())]),\n",
       "                                                  ['annual_inc']),\n",
       "                                                 ('cat_trans',\n",
       "                                                  Pipeline(steps=[('onehotencoder',\n",
       "                                                                   OneHotEncoder(drop='first'))]),\n",
       "                                                  ['grade'])])),\n",
       "                ('decisiontreeclassifier', DecisionTreeClassifier())])"
      ]
     },
     "execution_count": 12,
     "metadata": {},
     "output_type": "execute_result"
    }
   ],
   "source": [
    "from sklearn.tree import DecisionTreeClassifier\n",
    "\n",
    "tree_clf = make_pipeline(preproc_pipe, DecisionTreeClassifier())\n",
    "tree_clf.fit(X_train, y_train)"
   ]
  },
  {
   "cell_type": "markdown",
   "metadata": {
    "slideshow": {
     "slide_type": "subslide"
    }
   },
   "source": [
    "You can plot a tree: `tree.plot_tree(<tree object>)`\n",
    "\n",
    "But it's messy and huge on a complicated model like this so I won't show it:"
   ]
  },
  {
   "cell_type": "code",
   "execution_count": null,
   "metadata": {
    "slideshow": {
     "slide_type": "fragment"
    }
   },
   "outputs": [],
   "source": [
    "# from sklearn import tree # has the plotting function\n",
    "# tree.plot_tree(tree_clf['decisiontreeclassifier']) "
   ]
  },
  {
   "cell_type": "markdown",
   "metadata": {
    "slideshow": {
     "slide_type": "subslide"
    }
   },
   "source": [
    "This lending club example is a \"classification\" problem. A common output is a **\"confusion matrix\"**.\n",
    "\n",
    "Let's look at these 3 versions... what do we learn?"
   ]
  },
  {
   "cell_type": "code",
   "execution_count": 26,
   "metadata": {
    "slideshow": {
     "slide_type": "subslide"
    }
   },
   "outputs": [
    {
     "data": {
      "image/png": "[encoded data removed]",
      "text/plain": [
       "<Figure size 432x288 with 2 Axes>"
      ]
     },
     "metadata": {
      "needs_background": "light"
     },
     "output_type": "display_data"
    }
   ],
   "source": [
    "from sklearn.metrics import plot_confusion_matrix\n",
    "\n",
    "plot_confusion_matrix(tree_clf, X_test, y_test, normalize=None) # normalize='all' {'true', 'pred', 'all'}\n",
    "plt.show()"
   ]
  },
  {
   "cell_type": "code",
   "execution_count": 27,
   "metadata": {
    "slideshow": {
     "slide_type": "subslide"
    }
   },
   "outputs": [
    {
     "data": {
      "image/png": "[encoded data removed]",
      "text/plain": [
       "<Figure size 432x288 with 2 Axes>"
      ]
     },
     "metadata": {
      "needs_background": "light"
     },
     "output_type": "display_data"
    }
   ],
   "source": [
    "from sklearn.metrics import plot_confusion_matrix\n",
    "\n",
    "plot_confusion_matrix(tree_clf, X_test, y_test, normalize='true') # normalize='all' {'true', 'pred', 'all'}\n",
    "plt.show()"
   ]
  },
  {
   "cell_type": "code",
   "execution_count": 28,
   "metadata": {
    "slideshow": {
     "slide_type": "subslide"
    }
   },
   "outputs": [
    {
     "data": {
      "image/png": "[encoded data removed]",
      "text/plain": [
       "<Figure size 432x288 with 2 Axes>"
      ]
     },
     "metadata": {
      "needs_background": "light"
     },
     "output_type": "display_data"
    }
   ],
   "source": [
    "from sklearn.metrics import plot_confusion_matrix\n",
    "\n",
    "plot_confusion_matrix(tree_clf, X_test, y_test, normalize='pred') # normalize='all' {'true', 'pred', 'all'}\n",
    "plt.show()"
   ]
  },
  {
   "cell_type": "code",
   "execution_count": 10,
   "metadata": {
    "slideshow": {
     "slide_type": "subslide"
    }
   },
   "outputs": [
    {
     "data": {
      "text/plain": [
       "0.8317275804124039"
      ]
     },
     "execution_count": 10,
     "metadata": {},
     "output_type": "execute_result"
    }
   ],
   "source": [
    "# can use this in CV like before, and optimization\n",
    "\n",
    "scores = cross_validate(tree_clf,X_train,y_train,scoring='precision_micro',\n",
    "               cv=10)\n",
    "scores['test_score'].mean()  # logit got us 0.84"
   ]
  },
  {
   "cell_type": "markdown",
   "metadata": {
    "slideshow": {
     "slide_type": "slide"
    }
   },
   "source": [
    "## Bagging\n",
    "\n",
    "Rerunning the estimator (can be anything basically, here, I \"bag a tree\") on random samples of the training data, where samples are drawn with replacement. Each sub estimator gets equal weight. The idea is that by combining many estimators, we reduce variance of the final model.\n",
    "\n",
    "It's easy to get _started_:"
   ]
  },
  {
   "cell_type": "code",
   "execution_count": 30,
   "metadata": {
    "slideshow": {
     "slide_type": "fragment"
    }
   },
   "outputs": [
    {
     "data": {
      "text/plain": [
       "0.8313474012909456"
      ]
     },
     "execution_count": 30,
     "metadata": {},
     "output_type": "execute_result"
    }
   ],
   "source": [
    "# slower than trees\n",
    "\n",
    "from sklearn.ensemble import BaggingClassifier\n",
    "\n",
    "bagging = BaggingClassifier(DecisionTreeClassifier())\n",
    "bag_pipe = make_pipeline(preproc_pipe, bagging)\n",
    "cross_validate(bag_pipe,X_train,y_train,\n",
    "               scoring='precision_micro',\n",
    "               cv=10)['test_score'].mean()  # logit got us 0.84"
   ]
  },
  {
   "cell_type": "markdown",
   "metadata": {
    "slideshow": {
     "slide_type": "slide"
    }
   },
   "source": [
    "## Forests\n",
    "\n",
    "Decision trees tend to overfit. Random forests correct for that to get better out of sample performance. The trick is to randomly pick only some X features at each split.\n",
    "\n",
    "It's easy to get _started_:"
   ]
  },
  {
   "cell_type": "code",
   "execution_count": 31,
   "metadata": {},
   "outputs": [
    {
     "data": {
      "text/plain": [
       "0.830772482353362"
      ]
     },
     "execution_count": 31,
     "metadata": {},
     "output_type": "execute_result"
    }
   ],
   "source": [
    "# slower than bagging... SLOW. Like... this ran for like 10-15 minutes...\n",
    "\n",
    "from sklearn.ensemble import RandomForestClassifier\n",
    "\n",
    "forest_pipe = make_pipeline(preproc_pipe, RandomForestClassifier())\n",
    "cross_validate(forest_pipe,X_train,y_train,\n",
    "               scoring='precision_micro',\n",
    "               cv=10)['test_score'].mean()  # logit got us 0.84"
   ]
  },
  {
   "cell_type": "markdown",
   "metadata": {
    "slideshow": {
     "slide_type": "slide"
    }
   },
   "source": [
    "## Gradient Boosting\n",
    "\n",
    "- Usually outperforms random forest (pro) at the cost of difficulty interpreting (and again: overfitting danger)\n",
    "- Many implementations: AdaBoost, XGBoost, LightGBM, CatBoost, sklearn (HistGradientBoostingClassifier)\n",
    "- Boosting estimators start with \"weak predictors\" and sequentially add more weak predictors to predict the *errors* of the last estimator\n"
   ]
  },
  {
   "cell_type": "code",
   "execution_count": 54,
   "metadata": {
    "slideshow": {
     "slide_type": "subslide"
    }
   },
   "outputs": [
    {
     "data": {
      "image/png": "[encoded data removed]",
      "text/plain": [
       "<Figure size 432x288 with 2 Axes>"
      ]
     },
     "metadata": {
      "needs_background": "light"
     },
     "output_type": "display_data"
    }
   ],
   "source": [
    "# explicitly require this experimental feature\n",
    "from sklearn.experimental import enable_hist_gradient_boosting  # noqa\n",
    "# now you can import normally from ensemble\n",
    "from sklearn.ensemble import HistGradientBoostingClassifier\n",
    "\n",
    "booster = HistGradientBoostingClassifier(max_iter=2)\n",
    "\n",
    "X_ready = preproc_pipe.fit_transform(X_train).toarray() # toarray to deal with sparse error\n",
    "booster.fit(X_ready,y_train)\n",
    "\n",
    "plot_confusion_matrix(booster, preproc_pipe.transform(X_test).toarray(), y_test, normalize=None) # normalize='all' {'true', 'pred', 'all'}\n",
    "plt.show()\n",
    "\n",
    "# imbalanced data... or another problem? For Wednesday!\n"
   ]
  },
  {
   "cell_type": "code",
   "execution_count": 36,
   "metadata": {
    "slideshow": {
     "slide_type": "notes"
    }
   },
   "outputs": [],
   "source": [
    "## fix for Wed: this leads to TypeError: A sparse matrix was passed, but dense data is required.\n",
    "# boosting_pipe = make_pipeline(preproc_pipe, booster)\n",
    "# cross_validate(boosting_pipe,X_train,y_train,\n",
    "#                scoring='precision_micro',\n",
    "#                cv=2)['test_score'].mean()  "
   ]
  },
  {
   "cell_type": "markdown",
   "metadata": {
    "slideshow": {
     "slide_type": "slide"
    }
   },
   "source": [
    "## Homework review and demos\n",
    "\n",
    "Let's review the assignment. \n",
    "\n",
    "Any volunteers?\n"
   ]
  }
 ],
 "metadata": {
  "kernelspec": {
   "display_name": "Python 3",
   "language": "python",
   "name": "python3"
  },
  "language_info": {
   "codemirror_mode": {
    "name": "ipython",
    "version": 3
   },
   "file_extension": ".py",
   "mimetype": "text/x-python",
   "name": "python",
   "nbconvert_exporter": "python",
   "pygments_lexer": "ipython3",
   "version": "3.8.5"
  }
 },
 "nbformat": 4,
 "nbformat_minor": 4
}
