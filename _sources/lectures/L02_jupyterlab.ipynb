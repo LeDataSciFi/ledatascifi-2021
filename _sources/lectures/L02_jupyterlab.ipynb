{
 "cells": [
  {
   "cell_type": "markdown",
   "metadata": {
    "slideshow": {
     "slide_type": "slide"
    }
   },
   "source": [
    "# Hello everyone!\n",
    "\n",
    "Our plan for the day:\n",
    "\n",
    "1. Any issues with the tasks, or questions before we begin?\n",
    "   \n",
    "   _**Reminder: Save code we do in class to your repo for participation credit**_\n",
    "   \n",
    "1. Big picture\n",
    "1. JLab tour\n",
    "1. Learning by doing \n",
    "    1. Opening Jupyter Lab and exploring the interface\n",
    "    1. Creating our first file and exploring \"notebooks\"\n",
    "    1. Practice"
   ]
  },
  {
   "cell_type": "markdown",
   "metadata": {
    "slideshow": {
     "slide_type": "slide"
    }
   },
   "source": [
    "## Big picture\n",
    "\n",
    "- `python` is a programming language \n",
    "- .`py` files are text files that exclusively contain python code. \n",
    "- `py` files can not show results - you have to output any graphs or tables to new files. "
   ]
  },
  {
   "cell_type": "markdown",
   "metadata": {
    "slideshow": {
     "slide_type": "fragment"
    }
   },
   "source": [
    "That last feature is a bummer. **There must be a better way!**\n",
    "\n",
    "![](https://media.giphy.com/media/xsATxBQfeKHCg/giphy.gif)"
   ]
  },
  {
   "cell_type": "markdown",
   "metadata": {
    "slideshow": {
     "slide_type": "subslide"
    }
   },
   "source": [
    "![](https://media.giphy.com/media/zvYnqgajTM6MU/giphy.gif)"
   ]
  },
  {
   "cell_type": "markdown",
   "metadata": {
    "slideshow": {
     "slide_type": "subslide"
    }
   },
   "source": [
    "![](https://media.giphy.com/media/3oEduNF7DlpxgcHVJe/giphy.gif)\n",
    "\n",
    "Put that in the Guggenheim."
   ]
  },
  {
   "cell_type": "markdown",
   "metadata": {
    "slideshow": {
     "slide_type": "subslide"
    }
   },
   "source": [
    "![](https://media.giphy.com/media/B4fRSZgj8XUOY/source.gif)"
   ]
  },
  {
   "cell_type": "markdown",
   "metadata": {
    "slideshow": {
     "slide_type": "subslide"
    }
   },
   "source": [
    "Enter notebook files!\n",
    "\n",
    "- `.ipynb` (\"notebook\") files mix python code with formatted markdown text and the output from code!\n",
    "- &rarr; better analysis! (\"reproducible, reusable, and shareable\")\n",
    "\n",
    "And **Jupyter Lab** is how we will make our Jupyter notebooks"
   ]
  },
  {
   "cell_type": "markdown",
   "metadata": {
    "slideshow": {
     "slide_type": "slide"
    }
   },
   "source": [
    "## A quick tour of Jupyter Lab \n",
    "\n",
    "Open Jupyter Lab:\n",
    "- Windows: Open Anaconda Prompt and type `jupyter lab` and hit enter\n",
    "- Mac: Open a terminal window and type `jupyter lab` and hit enter\n",
    "\n",
    "OK, what are we looking at?\n",
    "- This is a browser based editor\n",
    "- Notice your prompt/terminal is running in the background\n",
    "    - _HINT_ : If you need another prompt/terminal to do something else, just open a second one\n",
    "    \n",
    "**Now, let me give you a little tour (just watch me!)**"
   ]
  },
  {
   "cell_type": "markdown",
   "metadata": {
    "slideshow": {
     "slide_type": "subslide"
    }
   },
   "source": [
    "I'll cover...\n",
    "- The left sidebar\n",
    "    - **The file browser:** Navigating to my project folder\n",
    "    - Kernels: A list of running code\n",
    "    - Commands: Has a lot of actions, and short cuts are listed\n",
    "    - Extensions: VERY useful to make JLab more powerful \n",
    "- The main work area \n",
    "    - you arrange documents (notebooks, text files, etc.) and other activities (terminals, code consoles, etc.) into panels \n",
    "    - each panel can have many tabs open "
   ]
  },
  {
   "cell_type": "markdown",
   "metadata": {
    "slideshow": {
     "slide_type": "slide"
    }
   },
   "source": [
    "## Our first notebook file\n",
    "\n",
    "**But first!** Let's put [tips on working](https://ledatascifi.github.io/ledatascifi-2021/content/assignments/howto_do.html#working-on-assignments-projects-taking-notes) into practice:\n",
    "- Open github desktop\n",
    "- \"Fetch\" your class notes repo (probably nothing changed, but its a good habit!)\n",
    "\n",
    "**Now we are ready to code!**"
   ]
  },
  {
   "cell_type": "markdown",
   "metadata": {
    "slideshow": {
     "slide_type": "subslide"
    }
   },
   "source": [
    "Before each class starts, you should have already \n",
    "- \"fetched\" your class notes repo \n",
    "- opened JLab to that folder\n",
    "\n",
    "And at the end of each class, \n",
    "- save all open code files, \n",
    "- close JLab (and the terminal running it)\n",
    "- commit and push your Class Notes repo"
   ]
  },
  {
   "cell_type": "markdown",
   "metadata": {
    "slideshow": {
     "slide_type": "subslide"
    }
   },
   "source": [
    "### Enough already, let's \"code\"!\n",
    "\n",
    "#### Step 1: Create the file\n",
    "\n",
    "1. create a folder inside your class notes folder called notes\n",
    "\n",
    "    right click in file explorer pane and select \"New Folder\", then name it \"notes\"\n",
    "\n",
    "2. create a \"\" file \n",
    "\n",
    "    Hit  the $+$ button, then under \"Notebook\", click on \"Python 3\"\n",
    "    \n",
    "3. rename that file \"Using JupyterLab-Basics\"\n",
    "\n",
    "    right click the file in the file browser, or the tab the file opened in, and pick \"rename\"\n",
    "\n",
    "4. save it (CTRL+S on windows, Apple+S on mac)"
   ]
  },
  {
   "cell_type": "markdown",
   "metadata": {
    "slideshow": {
     "slide_type": "subslide"
    }
   },
   "source": [
    "#### Step 2: Modifying our notebook\n",
    "\n",
    "Let's type some Python in the notebook:\n",
    "\n",
    "```\n",
    "L=[1,2,3,4,5] # define a list with 1-5\n",
    "L.pop(4)      # \"pop\" removes an element\n",
    "L             # if the last element of a cell is an object\n",
    "              # executing the cell will print it, like this:\n",
    "```         \n",
    "\n",
    "- Do you notice the syntax coloring?\n",
    "- The hashtags/pound signs are the \"comment signal\". They tell Python to ignore everything to the right of it on that line, so that you can write notes to anyone looking at the code."
   ]
  },
  {
   "cell_type": "markdown",
   "metadata": {
    "slideshow": {
     "slide_type": "subslide"
    }
   },
   "source": [
    "Ok, let's run that code! Hit <kbd> ctrl </kbd>+ <kbd> enter</kbd> \n",
    "\n",
    "Do you see the number to the left of it? That helps you track the order in which each cell was run. \n",
    "\n",
    "Hit <kbd> ctrl </kbd>+ <kbd> enter</kbd>  again. See the number change?"
   ]
  },
  {
   "cell_type": "markdown",
   "metadata": {
    "slideshow": {
     "slide_type": "subslide"
    }
   },
   "source": [
    "## Stop! Let me show you something important!\n",
    "\n",
    "**The point of code is that someone can open the file, run it from beginning to end, and get the same results you did!**\n",
    "\n",
    "You should check that your files work like you think they do every 15-30 minutes and EVERY TIME you think you are done by \n",
    "1. Clicking the \"Kernel\" menu, then, \"Restart Kernel and clear all outputs\". \n",
    "2. Then rerun the code: Open the \"run\" menu, then \"run all cells\"\n",
    "\n",
    "Let me show you an example of why this is important:"
   ]
  },
  {
   "cell_type": "markdown",
   "metadata": {
    "slideshow": {
     "slide_type": "subslide"
    }
   },
   "source": [
    "Let me show you an example of why this is important:\n",
    "\n",
    "```\n",
    "a=2                                     # run first\n",
    "print(\"Coffee costs\",a+3,\"dollars\")     # run second, run fourth\n",
    "a=4                                     # run third\n",
    "# someone opens this file of yours and sees that it says coffee is $7\n",
    "# after running these, the code says coffee is only $5!!!\n",
    "# this is a disaster!\n",
    "```\n",
    "\n",
    "This example seems silly, but I saw it on 20-30% of assignments for the first month last year. \n",
    "\n",
    "The easiest way to see if this might happen: Just look at all the #s to the left of code blocks. They should be in order from 1 up."
   ]
  },
  {
   "cell_type": "markdown",
   "metadata": {
    "slideshow": {
     "slide_type": "subslide"
    }
   },
   "source": [
    "### Back to using Jupyter Lab\n",
    "\n",
    "1. Add a new cell below by _**clicking**_ the plus button on this panel.\n",
    "2. Add a new cell below by _**keyboard shortcut**_. To do that, we need a quick digression on Jupyter's modal editing system. Let's look at the textbook.\n",
    "\n",
    "The modal behavior of the Jupyter notebook is a little tricky at first but very efficient when you get used to it.   \n",
    "\n",
    "So, click <kbd> ESC </kbd> to switch to command mode, then <kbd> B </kbd> to insert a cell **B** elow. "
   ]
  },
  {
   "cell_type": "markdown",
   "metadata": {
    "slideshow": {
     "slide_type": "subslide"
    }
   },
   "source": [
    "\n",
    " <ol start=\"3\">\n",
    "  <li>Switch the inserted cell to markdown (via the markdown/code drop down box) and write several lines.</li>\n",
    "  <li>Split the markdown cell in half and insert a cell in the middle of those halves. </li>\n",
    "     <ul>\n",
    "         <li><s>How do you split a cell in half?</s> Better question: Where do you look for an answer about how to do that? </li>\n",
    "         <li><b>This is a good time to explore!</b> Take the \"user interface tour\" under help, then look through the various menus, check out the Keyboard Shortcuts (under the help menu), and then search through the \"command palette\" (which looks like a keyboard icon at the right side of the Notebook Toolbar). <b>The command palette is very useful because you can search for commands!</b> Return to the shortcut menu and command palette often!!!</li>\n",
    "    </ul>     \n",
    " </ol>\n",
    "  <ol start=\"5\">\n",
    "  <li>Switch that middle cell to \"code\" mode via keyboard shortcuts. </li>\n",
    "  <li>Add a cell at the bottom of the notebook, and then delete it: <code>ESC</code> to go to command mode and then <code>D</code>,<code>D</code> (hit the \"d\" button twice).</li>    \n",
    "</ol> "
   ]
  },
  {
   "cell_type": "markdown",
   "metadata": {
    "slideshow": {
     "slide_type": "subslide"
    }
   },
   "source": [
    "## FIN for that walkthrough\n",
    "\n",
    "1. How did we do? \n",
    "    - Thumb up emoji if you kept up all the way through\n",
    "    - Thumb down if you're quite lost\n",
    "    - Any other emoji for \"in the middle\"\n",
    "2. Obviously, we will learn much more going forward, but you have enough to play around with Jupyter now. I **highly** recommend doing some introductory Python tutorials over the weekend. The "
   ]
  },
  {
   "cell_type": "markdown",
   "metadata": {
    "slideshow": {
     "slide_type": "slide"
    }
   },
   "source": [
    "## Tidying up\n",
    "\n",
    "Earlier, I said to\n",
    "\n",
    "    Code must run from beginning to end and produce the same thing every time\n",
    "    - Restart the kernal and clear output\n",
    "    - Run all cells\n",
    "    \n",
    "    And at the end of each class, \n",
    "    - save all open code files, \n",
    "    - close JLab (and the terminal running it)\n",
    "    - commit and push your Class Notes repo\n",
    "\n",
    "Let's do that now!"
   ]
  },
  {
   "cell_type": "markdown",
   "metadata": {
    "slideshow": {
     "slide_type": "subslide"
    }
   },
   "source": [
    "## Summary Part 1\n",
    "\n",
    "Before each class starts, you should have already \n",
    "- \"fetched\" your class notes repo \n",
    "- opened JLab to that folder\n",
    "\n",
    "And at the end of each class, \n",
    "- save all open code files, \n",
    "- close JLab (and the terminal running it)\n",
    "- commit and push your Class Notes repo\n",
    "- open the GitHub.com version of the repo\n",
    "\n",
    "Code must run from beginning to end and produce the same thing every time\n",
    "- Restart the kernal and clear output\n",
    "- Run all cells"
   ]
  },
  {
   "cell_type": "markdown",
   "metadata": {
    "slideshow": {
     "slide_type": "subslide"
    }
   },
   "source": [
    "### More practice:\n",
    "\n",
    "1. \"Issue demo\": Have student put issue on their Class Note Repo. I’ll reply via email. \n",
    "1. \"Good citizen demo\": Have student suggest a typo fix on the website\n",
    "1. Highlight \"JupyterLab\" chapter elements, and have everyone do the walk through of the interface \n",
    "2. Start everyone's Notes files with \"Practice\" and Whirlwind #3\n",
    "3. A preview of \"simple code\"\n"
   ]
  },
  {
   "cell_type": "markdown",
   "metadata": {
    "slideshow": {
     "slide_type": "subslide"
    }
   },
   "source": [
    "## Before next time\n",
    "\n",
    "![](https://media.giphy.com/media/H7x1H0veAJlo4/giphy.gif)\n",
    "\n",
    "Stuck?\n",
    "-  <kbd>shift</kbd> + <kbd>tab</kbd>; help(function); find the documentation via google; stack overflow;\n",
    "\n",
    "Over the weekend:\n",
    "- The task page lists reading to cover and coding to try\n",
    "- I added a Markdown tutorial to the textbook that people like a lot\n",
    "- On Monday, we will be coding together - more updates on that soon"
   ]
  },
  {
   "cell_type": "markdown",
   "metadata": {
    "slideshow": {
     "slide_type": "fragment"
    }
   },
   "source": [
    "### Two great opportunities:\n",
    "1. J&J competition (see coursesite)\n",
    "2. FIN388 - small capstone team looking for teammates. &#11088; &#11088;\n",
    "    - Will spend semester developing fun, real-world FinTech project for a firm. \n",
    "    - Project focuses on credit score products, will have data science component, and examine relevant regulatory factors\n",
    "    - Must have taken FIN330\n",
    "    - Let me know ASAP!"
   ]
  }
 ],
 "metadata": {
  "kernelspec": {
   "display_name": "Python 3",
   "language": "python",
   "name": "python3"
  },
  "language_info": {
   "codemirror_mode": {
    "name": "ipython",
    "version": 3
   },
   "file_extension": ".py",
   "mimetype": "text/x-python",
   "name": "python",
   "nbconvert_exporter": "python",
   "pygments_lexer": "ipython3",
   "version": "3.8.5"
  }
 },
 "nbformat": 4,
 "nbformat_minor": 4
}
