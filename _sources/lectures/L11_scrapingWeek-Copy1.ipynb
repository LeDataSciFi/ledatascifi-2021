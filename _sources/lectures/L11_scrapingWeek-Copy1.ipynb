{
 "cells": [
  {
   "cell_type": "markdown",
   "metadata": {
    "slideshow": {
     "slide_type": "notes"
    }
   },
   "source": [
    "Teaching notes go here\n",
    "\n",
    "\n"
   ]
  },
  {
   "cell_type": "markdown",
   "metadata": {
    "slideshow": {
     "slide_type": "slide"
    }
   },
   "source": [
    "# Hello! Today\n",
    "\n",
    "- 5/10min: Quick assignment 4 review\n",
    "- 5/10min: Student Demo\n",
    "- 5/10min: Intro to wizardry\n",
    "- 15 min: a couple mini API walkthroughs\n",
    "- 20 min: practice (breakouts)\n",
    "- 15min/Remainder: \"start\" the assignment\n",
    "\n",
    "_I'm going to record, but remember participation credits_"
   ]
  },
  {
   "cell_type": "markdown",
   "metadata": {
    "slideshow": {
     "slide_type": "slide"
    }
   },
   "source": [
    "## Quick assignment 4 review\n",
    "\n",
    "Gentle reminders: \n",
    "- ledatascifi.github.io, google.com, and stackoverflow.com are your friends!\n",
    "- pseudo code more - including writing on paper. I usually write what I want/need and work backwards\n",
    "\n",
    "Any questions? Anyone want a chance to show their work? (Perhaps if you don't usually get a chance to talk...)"
   ]
  },
  {
   "cell_type": "markdown",
   "metadata": {
    "slideshow": {
     "slide_type": "fragment"
    }
   },
   "source": [
    "1. Part 3: two things you had to do:\n",
    "    - https://github.com/LeDataSciFi/ledatascifi-2021/blob/main/data/two_pat_vars.csv\n",
    "    - merge on firm AND year (in the \"tips & best practices\"... verbatim)\n",
    "2. Part 2: create the variable before the merge (follow the website!)"
   ]
  },
  {
   "cell_type": "markdown",
   "metadata": {
    "slideshow": {
     "slide_type": "subslide"
    }
   },
   "source": [
    "### Student demos\n",
    "\n",
    "- Explore the relationship amongst PatentStock, SelfCites, R&D, and CAPX \n",
    "- Morning: Ziyi (@Ziyi-Zhuang) and Rebecca (@rev222)\n",
    "- Afternoon: Ikem (@Ikemmbalewe) and Randy (@randy565)"
   ]
  },
  {
   "cell_type": "markdown",
   "metadata": {
    "slideshow": {
     "slide_type": "slide"
    }
   },
   "source": [
    "## Intro to wizardy (scraping data from the web)\n",
    "\n",
    "### But first...\n",
    "\n",
    "The main ideas today are\n",
    "\n",
    "1. how to adjust the URL to change your search terms and parameters\n",
    "2. how to explore the \"response object\".\n",
    "\n",
    "**Two \"golden rules\" that come out of exploring the response object in the examples below**\n",
    "\n",
    "- always use `r.status_code` (hopefully a 200 level response)\n",
    "- always use `r.url` to see the URL and then manually visit the URL yourself to make sure it's behaving how you expect (the search is what you want, right parameters and everything)\n",
    "- every site is different, and you'll have to..."
   ]
  },
  {
   "cell_type": "markdown",
   "metadata": {
    "slideshow": {
     "slide_type": "fragment"
    }
   },
   "source": [
    "**print and look at objects at every stage of your code**"
   ]
  },
  {
   "cell_type": "markdown",
   "metadata": {
    "slideshow": {
     "slide_type": "subslide"
    }
   },
   "source": [
    "## Ok, now: Intro to wizardy (scraping data from the web)\n",
    "\n",
    "- Prof talk: 4.0, 4.1.1 and .2, \n",
    "    \n",
    "- Prof walkthroughs: 4.2.1.1\n",
    "    - If the API is in the URL... you can set up a list of URLs and hit the API\n",
    "    - Google stock price\n",
    "    - Google patents \n",
    "    - Neal Caren's walkthrough\n",
    "\n",
    "- Practice: Exchange rates"
   ]
  },
  {
   "cell_type": "markdown",
   "metadata": {
    "slideshow": {
     "slide_type": "slide"
    }
   },
   "source": [
    "## The assignment\n",
    "\n",
    "- Basic question: What \"types\" of firms were hurt more or less by covid?\n",
    "- Specific questions: What risk factors were associated with better/worse stock returns around the onset of covid?\n",
    "    - This is a \"cross-sectional event study\"\n",
    "    - Expectation: Scatterplot (risk v. returns) + regression lines\n",
    "    - Pro: Regression tables\n",
    "- Method: Estimate \"risk factors\" from the text of S&P 500 firm's wiki pages. \n",
    "    - Adv method: Estimate them from the text of S&P 500 firm's 10-K filings. \n",
    "\n",
    "How do we solve this? PSUEDOCODE! (Let's brainstorm, take notes - this will be useful!)\n"
   ]
  },
  {
   "cell_type": "markdown",
   "metadata": {
    "slideshow": {
     "slide_type": "subslide"
    }
   },
   "source": [
    "## Next class\n",
    "\n",
    "- We need the URLs for the wiki pages for S&P500 firms --> scrape from wiki\n",
    "- Build a spider to visit and download those pages\n",
    "- _Next week: \"read those pages for various risk indicators\"_\n",
    "\n",
    "### Student demos \n",
    "- Task: Will be a continuation of something from today\n",
    "- Emily (@emilyntaylor) and Rachel (@ral222\n",
    "- Jordan (@jordanweintraub914) and Julio (@julioveracruz)\n",
    "\n",
    "\t"
   ]
  },
  {
   "cell_type": "markdown",
   "metadata": {
    "slideshow": {
     "slide_type": "slide"
    }
   },
   "source": [
    "## Summary \n",
    "\n",
    "We covered\n",
    "- Ways to get data off the web: pandas, install and play APIs, manual APIs\n",
    "- Starting to parse a webpage\n",
    "\n",
    "![](https://media.giphy.com/media/H7x1H0veAJlo4/giphy.gif)\n"
   ]
  }
 ],
 "metadata": {
  "kernelspec": {
   "display_name": "Python 3",
   "language": "python",
   "name": "python3"
  },
  "language_info": {
   "codemirror_mode": {
    "name": "ipython",
    "version": 3
   },
   "file_extension": ".py",
   "mimetype": "text/x-python",
   "name": "python",
   "nbconvert_exporter": "python",
   "pygments_lexer": "ipython3",
   "version": "3.8.5"
  }
 },
 "nbformat": 4,
 "nbformat_minor": 4
}
