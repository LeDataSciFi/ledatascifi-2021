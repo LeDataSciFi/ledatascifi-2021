{
 "cells": [
  {
   "cell_type": "markdown",
   "metadata": {
    "slideshow": {
     "slide_type": "slide"
    }
   },
   "source": [
    "# Hello everyone!\n",
    "\n",
    "Our plan for the day:\n",
    "\n",
    "1. Motivation\n",
    "1. Icebreaker\n",
    "1. Expectations and norms\n",
    "1. Github - jump in head first\n",
    "1. Navigating the website site and GH org\n",
    "5. Before next time...\n"
   ]
  },
  {
   "cell_type": "markdown",
   "metadata": {
    "slideshow": {
     "slide_type": "slide"
    }
   },
   "source": [
    "## Motivation\n",
    "\n",
    "You're here, so I'm guessing you know how buzzy \"Big Data\" and \"Machine Learning\" are.\n",
    "\n",
    "At the end of this class, the goal is that you'll be able to confidently add some skills to the bottom of your resume and benefit from that. \n",
    "\n",
    "![](https://media.giphy.com/media/znSg4sT0ivRdu/giphy.gif)"
   ]
  },
  {
   "cell_type": "markdown",
   "metadata": {
    "slideshow": {
     "slide_type": "subslide"
    }
   },
   "source": [
    "![](https://media.giphy.com/media/HPMTb7m5ehAUE/giphy.gif)\n",
    "\n",
    "_I hope you're a fan of bad gif humor... You'll have to deal with it - I live in this basement now, gif humor is all I have left._"
   ]
  },
  {
   "cell_type": "markdown",
   "metadata": {
    "slideshow": {
     "slide_type": "fragment"
    }
   },
   "source": [
    "But even if you don't ever code again, we are going to learn skills that are valuable anyways:\n",
    "- Defining problems clearly \n",
    "- Working collaboratively\n",
    "- Delivering work product\n",
    "- Having a baseline to detect Gold from Fool's Gold when someone pitches something as \"Big Data\""
   ]
  },
  {
   "cell_type": "markdown",
   "metadata": {
    "slideshow": {
     "slide_type": "slide"
    }
   },
   "source": [
    "## Let's do an icebreaker!\n",
    "\n",
    "- First: My thanks to everyone that set up their GH, added a photo, and filled out the survey\n",
    "    - If you haven't joined the org yet: please do so now: https://classroom.github.com/a/ktlJQNlI\n",
    "    - After you join it, I'll invite you to the org as a member, and to the \"classmates\" team. Make sure you get in!\n",
    "   "
   ]
  },
  {
   "cell_type": "markdown",
   "metadata": {
    "slideshow": {
     "slide_type": "subslide"
    }
   },
   "source": [
    "- Second: Let's run a poll!"
   ]
  },
  {
   "cell_type": "markdown",
   "metadata": {
    "slideshow": {
     "slide_type": "subslide"
    }
   },
   "source": [
    "- Third: Well, let's come back to this"
   ]
  },
  {
   "cell_type": "markdown",
   "metadata": {
    "slideshow": {
     "slide_type": "slide"
    }
   },
   "source": [
    "## Expectations and norms\n",
    "\n",
    " I'm going to work hard to make this as close to \"normal\" as pandemicollege can be\n",
    "- In person sessions (TBA later)\n",
    "- Lots of office hours\n",
    "- I'll be on Zoom at least 10 min before and after class - please drop in to say hi and \"Whoa, you see \\$GME today? RIP my loans.\" (or whatever...)\n",
    "- A few other tricks up my sleeve"
   ]
  },
  {
   "cell_type": "markdown",
   "metadata": {
    "slideshow": {
     "slide_type": "subslide"
    }
   },
   "source": [
    "**Please turn your webcams on at all times.**\n",
    "\n",
    "You can still wear pajamas, NP. \n",
    "\n",
    "But it really makes a difference. \n",
    "\n",
    "_Related note on grades: I'll take \"screenshot attendance\" randomly during the semester - if your camera is on, points. If you have a strong reason you don't want it on, please let me know. But seeing everyone helps a ton!_"
   ]
  },
  {
   "cell_type": "markdown",
   "metadata": {
    "slideshow": {
     "slide_type": "subslide"
    }
   },
   "source": [
    "Zoom style:\n",
    "- Please interrupt when you have a question!\n",
    "- You can chat at me if you want to type it out, and chat amongst yourselves if you are working through a problem together"
   ]
  },
  {
   "cell_type": "markdown",
   "metadata": {
    "slideshow": {
     "slide_type": "subslide"
    }
   },
   "source": [
    "The website and notes are not comprehensive - this is on purpose, to encourage you to look around the web for answers. \n",
    "\n",
    "The \"help & resources\" page has good suggestions for high quality places to look for answers when you get stuck. \n",
    "\n",
    "It also has tips for asking better questions to get _better_ help."
   ]
  },
  {
   "cell_type": "markdown",
   "metadata": {
    "slideshow": {
     "slide_type": "slide"
    }
   },
   "source": [
    "## Enough already! Let's get going!\n",
    "\n",
    "This class depends heavily on GitHub, so let's jump in. \n",
    "\n",
    "GitHub is good for \n",
    "- cloud storage\n",
    "- collaboration\n",
    "- version control\n",
    "\n",
    "It's like Word's Track Changes had a baby with Dropbox, and it was marketed to and designed for software developers. "
   ]
  },
  {
   "cell_type": "markdown",
   "metadata": {
    "slideshow": {
     "slide_type": "fragment"
    }
   },
   "source": [
    "![](img/weirdbaby.png)"
   ]
  },
  {
   "cell_type": "markdown",
   "metadata": {
    "slideshow": {
     "slide_type": "subslide"
    }
   },
   "source": [
    "We need to know how to \n",
    "1. Create a repo\n",
    "2. Clone it to our computer to work on it\n",
    "3. Work in the cloud (sometimes it is quicker)\n",
    "4. Fetch updates from the cloud before you start working (avoid disaster!)\n",
    "5. Work on your computer\n",
    "6. Push changes from your computer to the cloud."
   ]
  },
  {
   "cell_type": "markdown",
   "metadata": {
    "slideshow": {
     "slide_type": "subslide"
    }
   },
   "source": [
    "[The usual form of collaboration disaster:](http://phdcomics.com/comics/archive/phd101212s.gif)\n",
    "\n",
    "<img src=\"http://phdcomics.com/comics/archive/phd101212s.gif\" alt=\"phdcomic\" height=\"300\"/>\n",
    "\n"
   ]
  },
  {
   "cell_type": "markdown",
   "metadata": {
    "slideshow": {
     "slide_type": "slide"
    }
   },
   "source": [
    "### Let's practice all that!\n",
    "\n",
    "Again, the plan is:\n",
    "1. Create a repo\n",
    "2. Clone it to our computer to work on it\n",
    "3. Work in the cloud (sometimes it is quicker)\n",
    "4. Fetch updates from the cloud before you start working (avoid disaster!)\n",
    "5. Work on your computer\n",
    "6. Push changes from your computer to the cloud."
   ]
  },
  {
   "cell_type": "markdown",
   "metadata": {
    "slideshow": {
     "slide_type": "subslide"
    }
   },
   "source": [
    "ONE: Make a participation repo called \"Class Notes\" \n",
    "- Make it private, and initialize with a README file\n",
    "- The repo on GitHub.com is called the \"master\" or \"origin\" repo. \n",
    "\n",
    "TWO: \"Clone\" that to your computer. \n",
    "- The folder and files on your computer are called the \"remote\" repo. \n",
    "    "
   ]
  },
  {
   "cell_type": "markdown",
   "metadata": {
    "slideshow": {
     "slide_type": "subslide"
    }
   },
   "source": [
    "THREE: Modify the repo **in the cloud** and, then, \"fetch\" those changes to your computer. Think of \"fetch\" as syncing your computer to catch up with any changes in the master.\n",
    "- In the cloud:\n",
    "    1. Go to the webpage of the repo, and click on the pencil next to the readme\n",
    "    2. This is the \"front page\" of your repo, so let's make it useful to visitors (including future you!)\n",
    "    3. Let's add: Name, class, semester, major, graduation date (demo headers, bold and italics)\n",
    "    4. \"Commit\" the changes to \"save\" it. Make a basic note of what your changes are.\n",
    "- On your computer:\n",
    "    1. Look at the folder for this. The README hasn't changed yet!\n",
    "    2. Open GitHub Desktop, select that repo (in the upper left), and \"fetch origin\"\n",
    "    "
   ]
  },
  {
   "cell_type": "markdown",
   "metadata": {
    "slideshow": {
     "slide_type": "subslide"
    }
   },
   "source": [
    "FOUR: Modify the repo **on your computer**, and then, \"push\" those changes to the cloud. Think of \"push\" as syncing the master to catch up with any changes from your computer.\n",
    "- Open the README.md in a text editor, and add your dream job.\n",
    "- Let's call this bio section \"About me\", and add a section for \"About this repo and class\" below it.\n",
    "- That text formatting I just did is called \"markdown\" (thus the filetype is MD)\n",
    "- _**There are some good resources on the website in the text book section about markdown formatting.**_\n",
    "- Let's make a commit. \n",
    "    - Save the text file, then open GH Desktop.\n",
    "    - Type \"sectioned readme\" in the Summary box, and click commit. (But don't \"push\" it yet!)\n",
    "- Now, go back to the file, and add some more info to the \"About this repo and class section\" from the next slide:"
   ]
  },
  {
   "cell_type": "markdown",
   "metadata": {
    "slideshow": {
     "slide_type": "subslide"
    }
   },
   "source": [
    "I'll copy this into the chat, you can paste it into your file.\n",
    "\n",
    "```\n",
    "Key links:\n",
    "- [The main website](https://ledatascifi.github.io)\n",
    "- [The dashboard](https://ledatascifi.github.io/ledatascifi-2021/content/about/schedule.html)\n",
    "- [Tips](https://ledatascifi.github.io/ledatascifi-2021/content/about/tips.html)\n",
    "- [Help](https://ledatascifi.github.io/ledatascifi-2021/content/about/resources.html)\n",
    "- [The LDSF org](https://github.com/orgs/LeDataSciFi)\n",
    "- [Announcements, discussions, and help](https://github.com/orgs/LeDataSciFi/teams/classmates)\n",
    "- [Lecture files (e.g. \"powerpoints\")](https://github.com/LeDataSciFi/ledatascifi-2021/tree/main/lectures)\n",
    "```\n",
    "\n",
    "- Then, in GH Desktop, summarize this commit as \"key links\"\n",
    "- Now, push that by clicking the blue button\n",
    "- Now refresh the repo on the website... :)"
   ]
  },
  {
   "cell_type": "markdown",
   "metadata": {
    "slideshow": {
     "slide_type": "slide"
    }
   },
   "source": [
    "### Well, how did we do?\n",
    "\n",
    "- If you made it through that, awesome!\n",
    "\n",
    "- If not, you can find this lecture in the `LeDataSciFi/ledatascifi-2021` repo, inside the \"lectures\" folder, to help you replicate it.\n",
    "\n",
    "- REGARDLESS: Keep all the files you work on during class inside this `Class Notes` repo"
   ]
  },
  {
   "cell_type": "markdown",
   "metadata": {
    "slideshow": {
     "slide_type": "fragment"
    }
   },
   "source": [
    "### Why save all your notes from class (aside from the usual \"learning\" reasons)?\n",
    " \n",
    "Because in class coding files are an _\"effort\"_ part of the participation grade. \n",
    "\n",
    "Just work in class as much as you can, take notes, try the exercises, and that portion of the grade will be good."
   ]
  },
  {
   "cell_type": "markdown",
   "metadata": {
    "slideshow": {
     "slide_type": "slide"
    }
   },
   "source": [
    "## Navigating the website site and GH org\n",
    "\n",
    "Let's finish by going over a few things:\n",
    "1. You can flip through the website with arrow keys, and the search bar \"mostly\" works. \n",
    "    - Notice the icons at the top of the pages!\n",
    "2. Please click on the links in your \"key links\" section and explore the site and the GH org and repos. \n",
    "    - dashboard page is especially &#11088;\n",
    "    - In the org repo, notice the \"issues\" tab\n",
    "3. The classmate team &#11088; &#11088; - https://github.com/orgs/LeDataSciFi/teams/classmates\n",
    "    - Very useful for getting help from each other via tagging @classmates \n",
    "    - Go to that page, and click `Watch` to ensure you get announcements!\n",
    "    - You should now get an email notification whenever an Issue is posted by myself, the TA, or if your classmates ask a question.\n",
    "    - If you don't get any email announcements by next Monday, email me - something is wrong!\n",
    "4. Pentultimate thing: Icebreaker \\#3 \n",
    "    - Post 2 truths and a lie \n",
    "    - _Notice in the grade section of the website: Posts and replies to the discussion board will help your grade._\n",
    "    - Let's do a poll now to see what the class thinks my lie is\n"
   ]
  },
  {
   "cell_type": "markdown",
   "metadata": {
    "slideshow": {
     "slide_type": "slide"
    }
   },
   "source": [
    "## Summary\n",
    "\n",
    "You know how to \n",
    "1. Create a repo\n",
    "2. Clone it to our computer to work on it\n",
    "3. Work in the cloud (sometimes it is quicker)\n",
    "4. Fetch updates from the cloud before you start working (avoid disaster!)\n",
    "5. Work on your computer\n",
    "6. Push changes from your computer to the cloud.\n",
    "\n",
    "Now, anytime your do any work: **Fetch early, commit frequently, push often!** &#11088; &#11088; &#11088;\n",
    "\n",
    "For more on this process, see [the github workflow](../assignments/howto_do.html#working-on-assignments-projects-taking-notes). &#11088; &#11088; &#11088;\n"
   ]
  },
  {
   "cell_type": "markdown",
   "metadata": {
    "slideshow": {
     "slide_type": "slide"
    }
   },
   "source": [
    "## Before next time\n",
    "\n",
    "1. Finish all the tasks on the dashboard page\n",
    "2. Read the GitHub page of the textbook to learn about GitHub issues, why Git $\\neq$ GitHub $\\neq$ GitHub Desktop, and how to use GitHub to see changes to a project (the \"version control\" section of the page)\n",
    "3. Any questions you want to cover in the next class? Please let me know via the form (link on the.. you guessed it! The dashboard page."
   ]
  },
  {
   "cell_type": "markdown",
   "metadata": {
    "slideshow": {
     "slide_type": "fragment"
    }
   },
   "source": [
    "### Two great opportunities:\n",
    "1. J&J competition (see coursesite)\n",
    "2. FIN388 - small capstone team looking for teammates. &#11088; &#11088;\n",
    "    - Will spend semester developing fun, real-world FinTech project for a firm. \n",
    "    - Project focuses on credit score products, will have data science component, and examine relevant regulatory factors\n",
    "    - Must have taken FIN330\n",
    "    - Let me know ASAP!"
   ]
  }
 ],
 "metadata": {
  "celltoolbar": "Tags",
  "kernelspec": {
   "display_name": "Python 3",
   "language": "python",
   "name": "python3"
  },
  "language_info": {
   "codemirror_mode": {
    "name": "ipython",
    "version": 3
   },
   "file_extension": ".py",
   "mimetype": "text/x-python",
   "name": "python",
   "nbconvert_exporter": "python",
   "pygments_lexer": "ipython3",
   "version": "3.8.5"
  }
 },
 "nbformat": 4,
 "nbformat_minor": 4
}
