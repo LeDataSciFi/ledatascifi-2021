{
 "cells": [
  {
   "cell_type": "markdown",
   "metadata": {},
   "source": [
    "# An intro to SK-learn + Fitting One Model\n",
    "\n",
    "This is just showing you how sklearn fits ONE model for ONE set of hyperparameters on\n",
    "a generic set of X and y. The idea is to show you the *flow* of how we work through\n",
    "estimation. Do NOT copy this code for assignments - it is deliberately missing a bunch \n",
    "of best practices, as we build up your familiarity with developing a ML model. \n",
    "\n",
    "To fit a model\n",
    "1. import class of model from sklearn"
   ]
  },
  {
   "cell_type": "code",
   "execution_count": 1,
   "metadata": {},
   "outputs": [],
   "source": [
    "from sklearn.linear_model import Ridge"
   ]
  },
  {
   "cell_type": "markdown",
   "metadata": {},
   "source": [
    "2. load data into y and X, and split off test data  "
   ]
  },
  {
   "cell_type": "code",
   "execution_count": 2,
   "metadata": {
    "tags": [
     "hide-input"
    ]
   },
   "outputs": [],
   "source": [
    "# this cell is copied from the L17 lecture file\n",
    "# EXCEPT: I put the interest rate in its own \"y\" variable\n",
    "#         and remove the y variable from the fannie_mae data\n",
    "\n",
    "import pandas as pd\n",
    "import numpy as np\n",
    "\n",
    "url        = 'https://github.com/LeDataSciFi/ledatascifi-2021/blob/main/data/Fannie_Mae_Plus_Data.gzip?raw=true'\n",
    "fannie_mae = pd.read_csv(url,compression='gzip').dropna()\n",
    "y          = fannie_mae.Original_Interest_Rate\n",
    "fannie_mae = (fannie_mae\n",
    "                  .assign(l_credscore = np.log(fannie_mae['Borrower_Credit_Score_at_Origination']),\n",
    "                          l_LTV = np.log(fannie_mae['Original_LTV_(OLTV)']),\n",
    "                         )\n",
    "              .iloc[:,-11:] # limit to these vars for the sake of this example\n",
    "             )\n"
   ]
  },
  {
   "cell_type": "code",
   "execution_count": 3,
   "metadata": {},
   "outputs": [],
   "source": [
    "from sklearn.model_selection import train_test_split\n",
    "\n",
    "rng = np.random.RandomState(0) # this helps us control the randomness so we can reproduce results exactly\n",
    "X_train, X_test, y_train, y_test = train_test_split(fannie_mae, y, random_state=rng)"
   ]
  },
  {
   "cell_type": "markdown",
   "metadata": {},
   "source": [
    "3. choose initial model hyperparameters by instantiating this class with desired values "
   ]
  },
  {
   "cell_type": "code",
   "execution_count": 4,
   "metadata": {},
   "outputs": [],
   "source": [
    "ridge = Ridge(alpha=1.0)"
   ]
  },
  {
   "cell_type": "markdown",
   "metadata": {},
   "source": [
    "4. fit() the model on training data"
   ]
  },
  {
   "cell_type": "code",
   "execution_count": 5,
   "metadata": {},
   "outputs": [
    {
     "data": {
      "text/plain": [
       "Ridge()"
      ]
     },
     "execution_count": 5,
     "metadata": {},
     "output_type": "execute_result"
    }
   ],
   "source": [
    "ridge.fit(X_train,y_train)"
   ]
  },
  {
   "cell_type": "markdown",
   "metadata": {},
   "source": [
    "5. apply the model to new data. either:\n",
    "    - `model.predict(X_test)` will predict y on X_test in [supervised learning](03e_whichModel) tasks\n",
    "    - `model.transform(X_test)` will change X using model (common with preprocessing and [unsupervised learning](03e_whichModel)) "
   ]
  },
  {
   "cell_type": "code",
   "execution_count": 6,
   "metadata": {},
   "outputs": [
    {
     "data": {
      "text/plain": [
       "array([5.95256433, 4.20060942, 3.9205946 , ..., 4.06401663, 5.30024985,\n",
       "       7.32600213])"
      ]
     },
     "execution_count": 6,
     "metadata": {},
     "output_type": "execute_result"
    }
   ],
   "source": [
    "ridge.predict(X_test)"
   ]
  },
  {
   "cell_type": "markdown",
   "metadata": {},
   "source": [
    "---\n",
    "\n",
    "_The text here is adapted from [PDSH](https://jakevdp.github.io/PythonDataScienceHandbook/05.02-introducing-scikit-learn.html#Basics-of-the-API)_\n"
   ]
  }
 ],
 "metadata": {
  "kernelspec": {
   "display_name": "Python 3",
   "language": "python",
   "name": "python3"
  },
  "language_info": {
   "codemirror_mode": {
    "name": "ipython",
    "version": 3
   },
   "file_extension": ".py",
   "mimetype": "text/x-python",
   "name": "python",
   "nbconvert_exporter": "python",
   "pygments_lexer": "ipython3",
   "version": "3.8.5"
  }
 },
 "nbformat": 4,
 "nbformat_minor": 4
}
