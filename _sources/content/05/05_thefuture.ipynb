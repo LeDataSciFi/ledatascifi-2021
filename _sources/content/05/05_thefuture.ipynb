{
 "cells": [
  {
   "cell_type": "markdown",
   "metadata": {},
   "source": [
    "# The Future\n",
    "\n",
    "I hope you've enjoyed the class and learned a bunch! This class is only an introduction to what can be done; clearly, there are galaxies of material on data science broadly and its possible applications to solve important (finance related) problems. But you have the starting toolkit to explore that galaxy of possibility now.\n",
    "\n",
    "**My sincere hope is that this class has opened up some doors for you**, whether you end up developing code to solve a problem for your company or end up managing a group of devs that are doing the coding. \n",
    "\n",
    "**I wish you all the best in the future and look forward to hearing about all the great things you do. Go forth, Mountain Hawks!**\n",
    "\n",
    "Thinking both about you-and-data-science, and you-and-me...\n",
    "\n",
    "![](https://media.giphy.com/media/f41oBFWHe3uro7Inqr/giphy.gif) \n",
    "\n",
    "\n"
   ]
  }
 ],
 "metadata": {
  "kernelspec": {
   "display_name": "Python 3",
   "language": "python",
   "name": "python3"
  },
  "language_info": {
   "codemirror_mode": {
    "name": "ipython",
    "version": 3
   },
   "file_extension": ".py",
   "mimetype": "text/x-python",
   "name": "python",
   "nbconvert_exporter": "python",
   "pygments_lexer": "ipython3",
   "version": "3.8.5"
  }
 },
 "nbformat": 4,
 "nbformat_minor": 4
}
