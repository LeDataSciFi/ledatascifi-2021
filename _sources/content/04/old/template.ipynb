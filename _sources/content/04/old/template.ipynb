{
 "cells": [
  {
   "cell_type": "markdown",
   "metadata": {},
   "source": [
    "# Title\n",
    "\n"
   ]
  },
  {
   "cell_type": "markdown",
   "metadata": {},
   "source": [
    "## Outline\n",
    "\n",
    "%todo\n",
    "\n",
    "1. \n",
    "1. \n",
    "1. \n",
    "1. \n",
    "\n",
    "Lots of good tricks: https://towardsdatascience.com/bringing-the-best-out-of-jupyter-notebooks-for-data-science-f0871519ca29 "
   ]
  },
  {
   "cell_type": "markdown",
   "metadata": {},
   "source": [
    "## \n",
    "\n",
    "%todo \n"
   ]
  },
  {
   "cell_type": "markdown",
   "metadata": {},
   "source": [
    "## Before next class\n",
    "\n",
    "%todo \n",
    "\n",
    "1. \n"
   ]
  },
  {
   "cell_type": "markdown",
   "metadata": {},
   "source": [
    "## Credits\n",
    "\n",
    "%todo"
   ]
  },
  {
   "cell_type": "markdown",
   "metadata": {},
   "source": [
    "## Sections for most classes\n",
    "\n",
    "%todo, cannabilze and delete before making public\n",
    "\n",
    "-overview, \n",
    "-materials, \n",
    "-what to do next, \n",
    "-Check ins: What questions do you have for me? \"What can I clarify for you?\"\n",
    "-Think Pair share, optionally:Who can tell us something insightful that your partner said?\n",
    "-graded work related to this class (always includes uploading day’s in class code work, refers to assignments underway, refers to peer review), \n",
    "-references, \n",
    "-link back to landing page (if needed)\n"
   ]
  }
 ],
 "metadata": {
  "kernelspec": {
   "display_name": "Python 3",
   "language": "python",
   "name": "python3"
  },
  "language_info": {
   "codemirror_mode": {
    "name": "ipython",
    "version": 3
   },
   "file_extension": ".py",
   "mimetype": "text/x-python",
   "name": "python",
   "nbconvert_exporter": "python",
   "pygments_lexer": "ipython3",
   "version": "3.7.6"
  }
 },
 "nbformat": 4,
 "nbformat_minor": 2
}
