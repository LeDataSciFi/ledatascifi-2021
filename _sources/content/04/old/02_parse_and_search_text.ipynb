{
 "cells": [
  {
   "cell_type": "markdown",
   "metadata": {},
   "source": [
    "## Outline\n",
    "\n",
    "1. Intro to \"Regular Expressions\"\n",
    "2. Golden rules for parsing text files\n",
    "\n",
    "## But first... \n",
    "\n",
    "[Let's check in on the local sports team.](https://streamable.com/ys5ye)\n"
   ]
  },
  {
   "cell_type": "markdown",
   "metadata": {},
   "source": [
    "## Intro to \"Regular Expressions\" (aka \"regex\" aka \"regx\" aka \"re\")\n",
    "\n",
    "### Why are we learning regex\n",
    "\n",
    "Q: Imagine you have a webpage or document which includes (buried in the text) a bunch of numbers. How can you collect all the phone numbers?\n",
    "\n",
    "A: Look for all the instances of this pattern: (###) ###-####.\n",
    "\n",
    "Your eyeballs can easily do that, but once the job involves enough enough numbers, it makes sense to let your computer do it for you. \n",
    "\n",
    "**Regex is how you tell a computer to search for any pattern within a string.*\n",
    "- Phone numbers \n",
    "- Emails (regex is why people don't spell out their emails \"correctly\" online)\n",
    "- Addresses\n",
    "- Certain words/topics (like assignment 5!)\n",
    "\n",
    "### Learning by playing\n",
    "\n",
    "Let's go to https://regexone.com/ . Watch me first, then you can take off.\n",
    "\n",
    "\n"
   ]
  },
  {
   "cell_type": "markdown",
   "metadata": {},
   "source": [
    "### Regex in Python\n",
    "\n",
    "Regex is a skill that works in all programming languages, so this lesson is portable - you can use regex in R or whatever your language of choice is.\n",
    "\n",
    "But obviously, we're going to use python. **Run `import re` to load the regex package.**\n",
    "\n",
    "### Common functions:\n",
    "\n",
    "[The full list of functions is here](https://docs.python.org/3/library/re.html#module-contents).\n",
    "\n",
    "- `re.search(pattern, string, karg**)` looks for the **first instance** of the regex pattern within the string and returns a \"match object\" if one is found. Returns `None` if no match.  \n",
    "```PYTHON\n",
    ">>> re.search(\"c\", \"abcdef\")\n",
    "<re.Match object; span=(2, 3), match='c'>\n",
    "```\n",
    "- `re.findall(pattern,string)` returns a list of matching strings, and **is how you can count the number of matches**\n",
    "```PYTHON\n",
    ">>> text = \"He was carefully disguised but captured quickly by police.\"\n",
    ">>> re.findall(r\"\\w+ly\", text)\n",
    "['carefully', 'quickly']\n",
    ">>> len(re.findall(r\"\\w+ly\", text))\n",
    "2\n",
    "```\n",
    "- `re.finditer(pattern,string)` is similar to `findall` but gives you a list of match objects, which is nice if you want to get more info about the matches than just the string\n",
    "```PYTHON\n",
    "# i want to find all of the adverbs AND THEIR POSITIONS in some text\n",
    ">>> text = \"He was carefully disguised but captured quickly by police.\"\n",
    ">>> for m in re.finditer(r\"\\w+ly\", text):\n",
    "...     print('%02d-%02d: %s' % (m.start(), m.end(), m.group(0)))\n",
    "07-16: carefully\n",
    "40-47: quickly\n",
    "```\n",
    "- `pattern_to_use = re.compile(pattern)` will create a pattern you can put as the input to `search`, `find`, and `findall`.\n",
    "```PYTHON\n",
    "result = re.search(pattern, string)\n",
    "# is equivalent to:\n",
    "prog = re.compile(pattern)\n",
    "result = prog.match(string)\n",
    "```\n",
    "- `.group(#)` if your search or match has parenthesized subgroups, you can access each parenthetical. \n",
    "```PYTHON\n",
    "# looks for two words with 1 space between\n",
    ">>> m = re.match(r\"(\\w+) (\\w+)\", \"Isaac Newton, physicist\")  \n",
    ">>> m.group(0)       # The entire match\n",
    "'Isaac Newton'\n",
    ">>> m.group(1)       # The first parenthesized subgroup.\n",
    "'Isaac'\n",
    ">>> m.group(2)       # The second parenthesized subgroup.\n",
    "'Newton'\n",
    ">>> m.group(1, 2)    # Multiple arguments give us a tuple.\n",
    "('Isaac', 'Newton')\n",
    "```\n"
   ]
  },
  {
   "cell_type": "markdown",
   "metadata": {},
   "source": [
    "A few pointers:\n",
    "- You only benefit from using `re.compile` when you are creating a bunch of regex patterns. In that case, you \"compile\" them and can immediately use them all quickly. But if you only have a few patterns, don't bother.\n",
    "- `re.match` is similar to `re.search`, but only starts at the beginning of the string. I don't use `match` almost ever.\n",
    "\n",
    "### Raw string notation\n",
    "\n",
    "You'll often see people put an \"r\" in from of the regex pattern. For example: `re.search(r\"c\", \"abcdef\")`.\n",
    "\n",
    "**Raw string notation (`r\"text\"`) keeps regular expressions sane. Without it, every backslash ('\\') in a regular expression would have to be prefixed with another one to escape it.**\n",
    "\n",
    "```PYTHON\n",
    "# These lines are functionally identical\n",
    ">>> re.match(r\"\\W(.)\\1\\W\", \" ff \")\n",
    "<re.Match object; span=(0, 4), match=' ff '>\n",
    ">>> re.match(\"\\\\W(.)\\\\1\\\\W\", \" ff \")\n",
    "<re.Match object; span=(0, 4), match=' ff '>\n",
    "\n",
    "# so are these:\n",
    ">>> re.match(r\"\\\\\", r\"\\\\\")\n",
    "<re.Match object; span=(0, 1), match='\\\\'>\n",
    ">>> re.match(\"\\\\\\\\\", r\"\\\\\")\n",
    "<re.Match object; span=(0, 1), match='\\\\'>\n",
    "```\n"
   ]
  },
  {
   "cell_type": "markdown",
   "metadata": {},
   "source": [
    "### Special characters to build your patterns\n",
    "\n",
    "Most of this is taken directly from the [official documentation](https://docs.python.org/3/library/re.html).\n",
    "\n",
    "| Char | Matches |\n",
    "| :--- | :--- |\n",
    "| `.` | any character except a newline |\n",
    "| `^` | start of the string <br> <br> `^[a-z]+` matches the \"hi\" in \"hi there\" but not \"there\" |\n",
    "| `$` | end of the string or just before the newline at the end of the string <br> <br>   `foo` matches both 'foo' and 'foobar', but `foo$` matches only 'foo' |\n",
    "| `*` |  match 0 or more repetitions of the preceding RE, as many repetitions as are possible. `ab*` will match \"a\", \"ab\", or \"abbbbbbb\" |\n",
    "| `+` |  match 1 or more repetitions of the preceding RE, as many repetitions as are possible. `ab+` will match \"ab\", or \"abbbbbbb\" but not \"a\" |\n",
    "| `?` |  match 0 or 1 repetitions of the preceding RE. `ab?` will match \"a\" and \"ab\" |\n",
    "| `{m}` |  match `m` repetitions of the preceding RE. `ab{3}` will match \"abbb\" but not \"abb\" |\n",
    "| `{m,n}` | match `m` to `n` repetitions of the preceding RE. `ab{3,5}` will match \"abbb\" and \"abbbbb\" but not \"abb\" |\n",
    "\n",
    "Note: Do you want the largest match or the smallest?\n",
    "- **`*`, `+`, `{m}` and `{m,n}` are GREEDY: they match as much text as possible.** So if you search `ab+` against \"abbb\" it will match the full string \"abbb\". But sometimes you want\n",
    "- If you add `?` to any of those, it will perform the match in a minimal way: using `ab+` on string \"abbbbb\" will just return \"ab\". Use `ab*` instead and you'll get \"a\". \n",
    "\n",
    "| Char | Matches |\n",
    "| :--- | :--- |\n",
    "| `\\` | 1. escapes special characters `\\*` will actuallye search for an asterisk. <br><br> 2. or signals a \"special sequence\" |\n",
    "| `[]` | Indicates a set of characters. In a set: `[amk]` will match 'a', 'm', or 'k'. <br> <br> Common ranges: `[a-z]`, `[A-Z]`,  `[0-9]`. You can combine ranges: `[A-Za-z0-9]`. <br> <br> Special characters lose their special meaning inside sets. For example, `[(+*)]` will match any of the literal characters `(`, `+`, `*`, or `)`. |\n",
    "| `(...)` | Makes a group. POWERFUL and necessary in most uses of regex. <br> <br> If you actually want to match parentheses, use a backslash: `\\(` |\n",
    "\n",
    "There is SO MANY more special characters. If you can imagine a \"feature\" in the pattern of a string, there is probably a special character. `\\b` matches word boundaries, `\\d for digits, `\\s` for whitespace, and more.\n",
    "\n",
    "### Moral: Most \"regex\" in practice is just Googling for someone who has done a similar thing."
   ]
  },
  {
   "cell_type": "markdown",
   "metadata": {},
   "source": [
    "## Developing your regex\n",
    "\n",
    "1. Think of the PATTERN you want to capture in general terms. \"I want three letter words.\"\n",
    "2. Write `pattern = \"\\w{3}\"` and then try it on a few practice strings. The goal is to BREAK your pattern, find out where it fails, and notice new parts of the pattern you missed.\n"
   ]
  },
  {
   "cell_type": "code",
   "execution_count": 7,
   "metadata": {},
   "outputs": [
    {
     "data": {
      "text/plain": [
       "['hey', 'the']"
      ]
     },
     "execution_count": 7,
     "metadata": {},
     "output_type": "execute_result"
    }
   ],
   "source": [
    "pattern = \"\\w{3}\"\n",
    "re.findall(pattern,\"hey there guy\") # whoops, \"the\" isnt a 3 letter word"
   ]
  },
  {
   "cell_type": "code",
   "execution_count": 14,
   "metadata": {},
   "outputs": [
    {
     "data": {
      "text/plain": [
       "['hey', 'ere', 'guy']"
      ]
     },
     "execution_count": 14,
     "metadata": {},
     "output_type": "execute_result"
    }
   ],
   "source": [
    "# tried but failed: \n",
    "#      \"(\\w{3}) \"     <-- a space\n",
    "#      \"(\\w{3})\\b\"    <-- a word boundary should work! why not?\n",
    "pattern = r\"(\\w{3})\\b\" # trying that raw string notation thing \n",
    "re.findall(pattern,\"hey there guy\")  \n",
    "# it made the `\\b` work!, but pattern still it is failing..."
   ]
  },
  {
   "cell_type": "code",
   "execution_count": 15,
   "metadata": {},
   "outputs": [
    {
     "data": {
      "text/plain": [
       "['hey', 'guy']"
      ]
     },
     "execution_count": 15,
     "metadata": {},
     "output_type": "execute_result"
    }
   ],
   "source": [
    "pattern = r\"\\b(\\w{3})\\b\"  # make sur the word has a boundary before it\n",
    "re.findall(pattern,\"hey there guy\")  # got it!"
   ]
  },
  {
   "cell_type": "markdown",
   "metadata": {},
   "source": [
    "## Finding words near each other\n",
    "\n",
    "You can find and download [this function here](https://raw.githubusercontent.com/danielappierto/ASGN05-dapp101/master/NEAR_regex.py?token=AMEHJ2YH7URQERQBKEPDPWK6NJKTU). \n",
    "\n",
    "I usually put it in the same folder as my code for an assignment, and then in the assignment write `from NEAR_regex import NEAR_regex`. Then, you can use it in an assignment without pasting this big block of code into it. \n",
    "\n",
    "\n"
   ]
  },
  {
   "cell_type": "code",
   "execution_count": 16,
   "metadata": {},
   "outputs": [],
   "source": [
    "def NEAR_regex(list_of_words,max_words_between=5,partial=False,cases_matter=False):\n",
    "    '''\n",
    "    Parameters\n",
    "    ----------\n",
    "    list_of_words : list\n",
    "        A list of \"words\", each element is a string\n",
    "        \n",
    "        This program will return a regex that will look for times where word1 \n",
    "        is near word2, or word2 is near word 1.\n",
    "        \n",
    "        It works with multiple words: You can see if words1 is near word2 or\n",
    "        word3. \n",
    "        \n",
    "    max_words_between : int, optional\n",
    "        How many \"words\" are allowed between words in list_of_words. The default\n",
    "        is 5, but you should consider this carefully.\n",
    "        \n",
    "        \"words\" in between are chunks of characters. \"DON don don- don12 2454\" \n",
    "        is 5 words.\n",
    "        \n",
    "        This will not allow matches if the words are separated by a newline \n",
    "        (\"\\n\") character.\n",
    "        \n",
    "    partial : Boolean, optional\n",
    "        If true, will accept longer words than you give. For example, if one \n",
    "        word in your list is \"how\", it will match to \"howdy\". Be careful in \n",
    "        choosing this based on your problem. Partial makes more sense with \n",
    "        longer words. \n",
    "        The default is True.\n",
    "        \n",
    "    cases_matter: Boolean, optional bt IMPORTANT\n",
    "        If True, will return a regex string that will only catch cases where  \n",
    "        words in the string have the same case as given as input to this \n",
    "        function. For example, if one word here is \"Hi\", then the regex \n",
    "        produced by this function will not catch \"hi\".\n",
    "        \n",
    "        If false, will return a regex string that will only work if all letters\n",
    "        in search string are lowercase.\n",
    "        \n",
    "        The default is True.\n",
    "     \n",
    "        \n",
    "    Warning / Feature\n",
    "    -------\n",
    "    This WILL find matches where the words are separated by line breaks.\n",
    "    \n",
    "    I recommend purging line breaks from your strings, in most cases, unless \n",
    "    you are SURE the only breaks left are meaningful paragraph breaks. \n",
    "    \n",
    "        \n",
    "    Unsure about speed\n",
    "    -------\n",
    "    I don't think this is a very \"fast\" function, but it should be robust. \n",
    "  \n",
    "    \n",
    "    Suggested use\n",
    "    -------\n",
    "    a_string_you_have = 'Jack and Jill went up the hill'\n",
    "    \n",
    "    # 1. define words and set up the regex\n",
    "    words = ['jack','hill']                         \n",
    "    rgx = NEAR_regex(words)                       \n",
    "    \n",
    "    # 2. convert the string to lowercase before searching!\n",
    "    a_string_you_have = a_string_you_have.lower()   \n",
    "    \n",
    "    # 3. len+findall+rgx = counts the number of times the word groups are close\n",
    "    count = len(re.findall(rgx,test))              \n",
    "    print(count)                                 \n",
    "\n",
    "    \n",
    "    Returns\n",
    "    -------\n",
    "    A string which is a regex that can be used to look for cases where all the \n",
    "    input words are near each other.\n",
    "\n",
    "    '''\n",
    "               \n",
    "    from itertools import permutations\n",
    "    \n",
    "    start = r'(?:\\b' # the r means \"raw\" as in the backslash is just a backslash, not an escape character\n",
    "    \n",
    "    if partial:\n",
    "        gap   = r'[A-Za-z]*\\b(?: +[^ \\n\\r]*){0,' +str(max_words_between)+r'} *\\b'\n",
    "        end   = r'[A-Za-z]*\\b)'\n",
    "    else:\n",
    "        gap   = r'\\b(?: +[^ \\n]*){0,' +str(max_words_between)+r'} *\\b'\n",
    "        end   = r'\\b)'\n",
    "        \n",
    "    regex_list = []\n",
    "    \n",
    "    for permu in list(permutations(list_of_words)):\n",
    "        # catch this permutation: start + word + gap (+ word + gap)... + end\n",
    "        if cases_matter: # case sensitive - what cases the user gives are given back\n",
    "              regex_list.append(start+gap.join(permu)+end)           \n",
    "        else: # the resulting search will only work if all words are lowercase\n",
    "            lowerpermu = [w.lower() for w in permu]\n",
    "            regex_list.append(start+gap.join(lowerpermu)+end)\n",
    "    \n",
    "    return '|'.join(regex_list)"
   ]
  },
  {
   "cell_type": "code",
   "execution_count": 17,
   "metadata": {},
   "outputs": [
    {
     "name": "stdout",
     "output_type": "stream",
     "text": [
      "0\n"
     ]
    }
   ],
   "source": [
    "import re\n",
    "\n",
    "test  = 'This is a partial string another break with words'\n",
    "words = ['part','with']\n",
    "rgx   = NEAR_regex(words)\n",
    "print(len(re.findall(rgx,test)))            # no match (partials not allowed) - good!"
   ]
  },
  {
   "cell_type": "code",
   "execution_count": 18,
   "metadata": {},
   "outputs": [
    {
     "name": "stdout",
     "output_type": "stream",
     "text": [
      "1\n"
     ]
    }
   ],
   "source": [
    "rgx = NEAR_regex(words,partial=True)\n",
    "print(len(re.findall(rgx,test)))            # match (partials allowed) - good!"
   ]
  },
  {
   "cell_type": "code",
   "execution_count": 19,
   "metadata": {},
   "outputs": [
    {
     "name": "stdout",
     "output_type": "stream",
     "text": [
      "0\n"
     ]
    }
   ],
   "source": [
    "rgx   = NEAR_regex(words,partial=True,max_words_between=1)\n",
    "print(len(re.findall(rgx,test)))            # no match (too far apart) - good!"
   ]
  },
  {
   "cell_type": "code",
   "execution_count": 20,
   "metadata": {},
   "outputs": [
    {
     "name": "stdout",
     "output_type": "stream",
     "text": [
      "0\n"
     ]
    }
   ],
   "source": [
    "words = ['part','With']\n",
    "rgx   = NEAR_regex(words,partial=True,cases_matter=True)\n",
    "print(len(re.findall(rgx,test)))"
   ]
  },
  {
   "cell_type": "code",
   "execution_count": 21,
   "metadata": {},
   "outputs": [
    {
     "name": "stdout",
     "output_type": "stream",
     "text": [
      "0\n",
      "1\n"
     ]
    }
   ],
   "source": [
    "words = ['part','with','this']\n",
    "rgx = NEAR_regex(words,partial=True)\n",
    "print(len(re.findall(rgx,test)))           # no match - good! \"This\" != \"this\"\n",
    "print(len(re.findall(rgx,test.lower())))    # match - good!"
   ]
  },
  {
   "cell_type": "code",
   "execution_count": 22,
   "metadata": {},
   "outputs": [
    {
     "name": "stdout",
     "output_type": "stream",
     "text": [
      "0\n"
     ]
    }
   ],
   "source": [
    "test  = 'This is a partial string \\n another break with words'\n",
    "words = ['part','with']\n",
    "rgx = NEAR_regex(words,partial=True)\n",
    "print(len(re.findall(rgx,test)))            # fails because of the \\n break"
   ]
  },
  {
   "cell_type": "code",
   "execution_count": 23,
   "metadata": {},
   "outputs": [
    {
     "name": "stdout",
     "output_type": "stream",
     "text": [
      "0\n"
     ]
    }
   ],
   "source": [
    "test  = 'This is a partial string \\r another break with words'\n",
    "words = ['part','with']\n",
    "rgx = NEAR_regex(words,partial=True)\n",
    "print(len(re.findall(rgx,test)))            # fails with \\r too."
   ]
  },
  {
   "cell_type": "code",
   "execution_count": 24,
   "metadata": {},
   "outputs": [
    {
     "name": "stdout",
     "output_type": "stream",
     "text": [
      "1\n"
     ]
    }
   ],
   "source": [
    "test  = 'This is a partial string                      another break with words'\n",
    "words = ['part','with']\n",
    "rgx = NEAR_regex(words,partial=True)\n",
    "print(len(re.findall(rgx,test)))            # extra spaces don't affect"
   ]
  },
  {
   "cell_type": "markdown",
   "metadata": {},
   "source": [
    "## Golden rules for parsing text files\n",
    "\n",
    "These rules should usually be followed, but there are exceptions. For example, sometimes, the case of a letter matters, and sometimes, keeping punctuation can help. But usually, textual analysis proceeds as follows:\n",
    "\n",
    "1. Use html tags to change/remove unneeded sections. If there are tables you don't want to parse or useless header or footer information, toss them out. Sometimes, you can use the hmtl tags to extract just the part of files you want. If so, do it! If not, proceed: \n",
    "1. Remove html tags, and turn the document into a pure text string.\n",
    "2. Lower case everything.\n",
    "3. Delete punctuation. \n",
    "4. Delete all excess whitespace.\n",
    "4. Now you can search/parse the text.\n"
   ]
  },
  {
   "cell_type": "markdown",
   "metadata": {},
   "source": [
    "## Practice\n",
    "\n",
    "Let's use Telsa:"
   ]
  },
  {
   "cell_type": "code",
   "execution_count": null,
   "metadata": {},
   "outputs": [],
   "source": [
    "from bs4 import BeautifulSoup\n",
    "import requests\n",
    "\n",
    "url = 'https://www.sec.gov/Archives/edgar/data/1318605/000156459019003165/0001564590-19-003165.txt'\n",
    "edgar_resp = requests.get(url)\n",
    "# save the url\n",
    "# then in the next part of assignment, youll load it again\n",
    "# here - i'm skipping those steps so we can grab one document to look at\n",
    "\n",
    "loaded_file = edgar_resp.content\n",
    "\n",
    "from NEAR_regex import NEAR_regex \n",
    "\n",
    "help(NEAR_regex)\n",
    "\n",
    "# try to use NEAR_regex... look for it working and failing...\n"
   ]
  }
 ],
 "metadata": {
  "kernelspec": {
   "display_name": "Python 3",
   "language": "python",
   "name": "python3"
  },
  "language_info": {
   "codemirror_mode": {
    "name": "ipython",
    "version": 3
   },
   "file_extension": ".py",
   "mimetype": "text/x-python",
   "name": "python",
   "nbconvert_exporter": "python",
   "pygments_lexer": "ipython3",
   "version": "3.7.6"
  }
 },
 "nbformat": 4,
 "nbformat_minor": 2
}
