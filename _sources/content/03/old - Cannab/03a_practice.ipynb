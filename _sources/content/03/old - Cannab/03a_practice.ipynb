{
 "cells": [
  {
   "cell_type": "markdown",
   "metadata": {},
   "source": [
    "# Graphing exercises\n",
    "\n",
    "\n",
    " \n"
   ]
  },
  {
   "cell_type": "markdown",
   "metadata": {},
   "source": [
    "## Let's revisit the \"Simple Program\"\n",
    "\n",
    "First, there are several elements of my code that we can improve, so this will let me reiterate some of the golden rules.\n",
    "\n",
    "Second, below I'll **create variables based only on group data**. Here, it's computing returns for a firm (i.e. the \"group\" is all observations for a single firm), but this is broadly applicable (you can change the group to \"firm-year\" or \"industry\" or \"industry-year\" or \"industry-year-state\" or...\n",
    "\n",
    "Third, we get to practice plotting, and then improving bad plots. "
   ]
  },
  {
   "cell_type": "code",
   "execution_count": 1,
   "metadata": {
    "tags": [
     "remove_output"
    ]
   },
   "outputs": [
    {
     "data": {
      "text/html": [
       "<div>\n",
       "<style scoped>\n",
       "    .dataframe tbody tr th:only-of-type {\n",
       "        vertical-align: middle;\n",
       "    }\n",
       "\n",
       "    .dataframe tbody tr th {\n",
       "        vertical-align: top;\n",
       "    }\n",
       "\n",
       "    .dataframe thead th {\n",
       "        text-align: right;\n",
       "    }\n",
       "</style>\n",
       "<table border=\"1\" class=\"dataframe\">\n",
       "  <thead>\n",
       "    <tr style=\"text-align: right;\">\n",
       "      <th></th>\n",
       "      <th>AAPL</th>\n",
       "      <th>MSFT</th>\n",
       "      <th>VZ</th>\n",
       "    </tr>\n",
       "    <tr>\n",
       "      <th>Date</th>\n",
       "      <th></th>\n",
       "      <th></th>\n",
       "      <th></th>\n",
       "    </tr>\n",
       "  </thead>\n",
       "  <tbody>\n",
       "    <tr>\n",
       "      <th>2000-01-03</th>\n",
       "      <td>3.470226</td>\n",
       "      <td>37.495686</td>\n",
       "      <td>20.721500</td>\n",
       "    </tr>\n",
       "    <tr>\n",
       "      <th>2000-01-04</th>\n",
       "      <td>3.177650</td>\n",
       "      <td>36.229057</td>\n",
       "      <td>20.051672</td>\n",
       "    </tr>\n",
       "    <tr>\n",
       "      <th>2000-01-05</th>\n",
       "      <td>3.224152</td>\n",
       "      <td>36.611080</td>\n",
       "      <td>20.721500</td>\n",
       "    </tr>\n",
       "    <tr>\n",
       "      <th>2000-01-06</th>\n",
       "      <td>2.945139</td>\n",
       "      <td>35.384666</td>\n",
       "      <td>20.631170</td>\n",
       "    </tr>\n",
       "    <tr>\n",
       "      <th>2000-01-07</th>\n",
       "      <td>3.084645</td>\n",
       "      <td>35.847076</td>\n",
       "      <td>20.478834</td>\n",
       "    </tr>\n",
       "    <tr>\n",
       "      <th>...</th>\n",
       "      <td>...</td>\n",
       "      <td>...</td>\n",
       "      <td>...</td>\n",
       "    </tr>\n",
       "    <tr>\n",
       "      <th>2020-02-03</th>\n",
       "      <td>307.929199</td>\n",
       "      <td>174.380005</td>\n",
       "      <td>58.049999</td>\n",
       "    </tr>\n",
       "    <tr>\n",
       "      <th>2020-02-04</th>\n",
       "      <td>318.095062</td>\n",
       "      <td>180.119995</td>\n",
       "      <td>58.290001</td>\n",
       "    </tr>\n",
       "    <tr>\n",
       "      <th>2020-02-05</th>\n",
       "      <td>320.688934</td>\n",
       "      <td>179.899994</td>\n",
       "      <td>59.130001</td>\n",
       "    </tr>\n",
       "    <tr>\n",
       "      <th>2020-02-06</th>\n",
       "      <td>324.440002</td>\n",
       "      <td>183.630005</td>\n",
       "      <td>59.439999</td>\n",
       "    </tr>\n",
       "    <tr>\n",
       "      <th>2020-02-07</th>\n",
       "      <td>320.029999</td>\n",
       "      <td>183.889999</td>\n",
       "      <td>59.939999</td>\n",
       "    </tr>\n",
       "  </tbody>\n",
       "</table>\n",
       "<p>5057 rows × 3 columns</p>\n",
       "</div>"
      ],
      "text/plain": [
       "                  AAPL        MSFT         VZ\n",
       "Date                                         \n",
       "2000-01-03    3.470226   37.495686  20.721500\n",
       "2000-01-04    3.177650   36.229057  20.051672\n",
       "2000-01-05    3.224152   36.611080  20.721500\n",
       "2000-01-06    2.945139   35.384666  20.631170\n",
       "2000-01-07    3.084645   35.847076  20.478834\n",
       "...                ...         ...        ...\n",
       "2020-02-03  307.929199  174.380005  58.049999\n",
       "2020-02-04  318.095062  180.119995  58.290001\n",
       "2020-02-05  320.688934  179.899994  59.130001\n",
       "2020-02-06  324.440002  183.630005  59.439999\n",
       "2020-02-07  320.029999  183.889999  59.939999\n",
       "\n",
       "[5057 rows x 3 columns]"
      ]
     },
     "execution_count": 1,
     "metadata": {},
     "output_type": "execute_result"
    }
   ],
   "source": [
    "import pandas as pd\n",
    "import numpy as np\n",
    "import pandas_datareader as pdr # you might need to install this (see above)\n",
    "import matplotlib.pyplot as plt\n",
    "import seaborn as sns\n",
    "import statsmodels.api as sm\n",
    "\n",
    "# don't copy and paste these lists and number in several places \n",
    "# (which is what the original \"simple program\" did... that's bad programming!)\n",
    "# instead, create a var - if we change it here, it changes everywhere\n",
    "stocks = ['AAPL','MSFT','VZ']\n",
    "start_yr = 2000\n",
    "\n",
    "# load\n",
    "stock_prices = pdr.get_data_yahoo(stocks, start=start_yr)\n",
    "stock_prices = stock_prices.filter(like='Adj Close') # reduce to just columns with this in the name\n",
    "stock_prices.columns = stocks # put their tickers as column names\n",
    "stock_prices # print"
   ]
  },
  {
   "cell_type": "code",
   "execution_count": 2,
   "metadata": {
    "tags": [
     "remove_output"
    ]
   },
   "outputs": [
    {
     "data": {
      "text/html": [
       "<div>\n",
       "<style scoped>\n",
       "    .dataframe tbody tr th:only-of-type {\n",
       "        vertical-align: middle;\n",
       "    }\n",
       "\n",
       "    .dataframe tbody tr th {\n",
       "        vertical-align: top;\n",
       "    }\n",
       "\n",
       "    .dataframe thead th {\n",
       "        text-align: right;\n",
       "    }\n",
       "</style>\n",
       "<table border=\"1\" class=\"dataframe\">\n",
       "  <thead>\n",
       "    <tr style=\"text-align: right;\">\n",
       "      <th></th>\n",
       "      <th>Firm</th>\n",
       "      <th>Date</th>\n",
       "      <th>Adj Close</th>\n",
       "    </tr>\n",
       "  </thead>\n",
       "  <tbody>\n",
       "    <tr>\n",
       "      <th>0</th>\n",
       "      <td>AAPL</td>\n",
       "      <td>2000-01-03</td>\n",
       "      <td>3.470226</td>\n",
       "    </tr>\n",
       "    <tr>\n",
       "      <th>1</th>\n",
       "      <td>AAPL</td>\n",
       "      <td>2000-01-04</td>\n",
       "      <td>3.177650</td>\n",
       "    </tr>\n",
       "    <tr>\n",
       "      <th>2</th>\n",
       "      <td>AAPL</td>\n",
       "      <td>2000-01-05</td>\n",
       "      <td>3.224152</td>\n",
       "    </tr>\n",
       "    <tr>\n",
       "      <th>3</th>\n",
       "      <td>AAPL</td>\n",
       "      <td>2000-01-06</td>\n",
       "      <td>2.945139</td>\n",
       "    </tr>\n",
       "    <tr>\n",
       "      <th>4</th>\n",
       "      <td>AAPL</td>\n",
       "      <td>2000-01-07</td>\n",
       "      <td>3.084645</td>\n",
       "    </tr>\n",
       "    <tr>\n",
       "      <th>...</th>\n",
       "      <td>...</td>\n",
       "      <td>...</td>\n",
       "      <td>...</td>\n",
       "    </tr>\n",
       "    <tr>\n",
       "      <th>15166</th>\n",
       "      <td>VZ</td>\n",
       "      <td>2020-02-03</td>\n",
       "      <td>58.049999</td>\n",
       "    </tr>\n",
       "    <tr>\n",
       "      <th>15167</th>\n",
       "      <td>VZ</td>\n",
       "      <td>2020-02-04</td>\n",
       "      <td>58.290001</td>\n",
       "    </tr>\n",
       "    <tr>\n",
       "      <th>15168</th>\n",
       "      <td>VZ</td>\n",
       "      <td>2020-02-05</td>\n",
       "      <td>59.130001</td>\n",
       "    </tr>\n",
       "    <tr>\n",
       "      <th>15169</th>\n",
       "      <td>VZ</td>\n",
       "      <td>2020-02-06</td>\n",
       "      <td>59.439999</td>\n",
       "    </tr>\n",
       "    <tr>\n",
       "      <th>15170</th>\n",
       "      <td>VZ</td>\n",
       "      <td>2020-02-07</td>\n",
       "      <td>59.939999</td>\n",
       "    </tr>\n",
       "  </tbody>\n",
       "</table>\n",
       "<p>15171 rows × 3 columns</p>\n",
       "</div>"
      ],
      "text/plain": [
       "       Firm       Date  Adj Close\n",
       "0      AAPL 2000-01-03   3.470226\n",
       "1      AAPL 2000-01-04   3.177650\n",
       "2      AAPL 2000-01-05   3.224152\n",
       "3      AAPL 2000-01-06   2.945139\n",
       "4      AAPL 2000-01-07   3.084645\n",
       "...     ...        ...        ...\n",
       "15166    VZ 2020-02-03  58.049999\n",
       "15167    VZ 2020-02-04  58.290001\n",
       "15168    VZ 2020-02-05  59.130001\n",
       "15169    VZ 2020-02-06  59.439999\n",
       "15170    VZ 2020-02-07  59.939999\n",
       "\n",
       "[15171 rows x 3 columns]"
      ]
     },
     "execution_count": 2,
     "metadata": {},
     "output_type": "execute_result"
    }
   ],
   "source": [
    "# this is wide data... so if we want to create a new variable, we have to do it once for each firm...\n",
    "# what if we have 1000 firms? seems tough to do...\n",
    "# make long/tidy:\n",
    "stock_prices = stock_prices.stack().swaplevel().sort_index().reset_index()\n",
    "stock_prices.columns = ['Firm','Date','Adj Close']\n",
    "stock_prices # print - now that is formatted nicely, like CRSP! \n",
    "\n",
    "# note: we might have to tweak the regression section of \"Simple Program\"\n",
    "# to work with the long data, but I suspect that it would be shorter code and \n",
    "# more \"generally applicable\" (ie easily work with N=1000+ firms)"
   ]
  },
  {
   "cell_type": "code",
   "execution_count": 3,
   "metadata": {
    "tags": [
     "remove_output"
    ]
   },
   "outputs": [
    {
     "data": {
      "text/html": [
       "<div>\n",
       "<style scoped>\n",
       "    .dataframe tbody tr th:only-of-type {\n",
       "        vertical-align: middle;\n",
       "    }\n",
       "\n",
       "    .dataframe tbody tr th {\n",
       "        vertical-align: top;\n",
       "    }\n",
       "\n",
       "    .dataframe thead th {\n",
       "        text-align: right;\n",
       "    }\n",
       "</style>\n",
       "<table border=\"1\" class=\"dataframe\">\n",
       "  <thead>\n",
       "    <tr style=\"text-align: right;\">\n",
       "      <th></th>\n",
       "      <th>Firm</th>\n",
       "      <th>Date</th>\n",
       "      <th>Adj Close</th>\n",
       "      <th>ret</th>\n",
       "    </tr>\n",
       "  </thead>\n",
       "  <tbody>\n",
       "    <tr>\n",
       "      <th>0</th>\n",
       "      <td>AAPL</td>\n",
       "      <td>2000-01-03</td>\n",
       "      <td>3.470226</td>\n",
       "      <td>NaN</td>\n",
       "    </tr>\n",
       "    <tr>\n",
       "      <th>1</th>\n",
       "      <td>AAPL</td>\n",
       "      <td>2000-01-04</td>\n",
       "      <td>3.177650</td>\n",
       "      <td>-0.084310</td>\n",
       "    </tr>\n",
       "    <tr>\n",
       "      <th>2</th>\n",
       "      <td>AAPL</td>\n",
       "      <td>2000-01-05</td>\n",
       "      <td>3.224152</td>\n",
       "      <td>0.014634</td>\n",
       "    </tr>\n",
       "    <tr>\n",
       "      <th>3</th>\n",
       "      <td>AAPL</td>\n",
       "      <td>2000-01-06</td>\n",
       "      <td>2.945139</td>\n",
       "      <td>-0.086538</td>\n",
       "    </tr>\n",
       "    <tr>\n",
       "      <th>4</th>\n",
       "      <td>AAPL</td>\n",
       "      <td>2000-01-07</td>\n",
       "      <td>3.084645</td>\n",
       "      <td>0.047368</td>\n",
       "    </tr>\n",
       "    <tr>\n",
       "      <th>...</th>\n",
       "      <td>...</td>\n",
       "      <td>...</td>\n",
       "      <td>...</td>\n",
       "      <td>...</td>\n",
       "    </tr>\n",
       "    <tr>\n",
       "      <th>15166</th>\n",
       "      <td>VZ</td>\n",
       "      <td>2020-02-03</td>\n",
       "      <td>58.049999</td>\n",
       "      <td>-0.023385</td>\n",
       "    </tr>\n",
       "    <tr>\n",
       "      <th>15167</th>\n",
       "      <td>VZ</td>\n",
       "      <td>2020-02-04</td>\n",
       "      <td>58.290001</td>\n",
       "      <td>0.004134</td>\n",
       "    </tr>\n",
       "    <tr>\n",
       "      <th>15168</th>\n",
       "      <td>VZ</td>\n",
       "      <td>2020-02-05</td>\n",
       "      <td>59.130001</td>\n",
       "      <td>0.014411</td>\n",
       "    </tr>\n",
       "    <tr>\n",
       "      <th>15169</th>\n",
       "      <td>VZ</td>\n",
       "      <td>2020-02-06</td>\n",
       "      <td>59.439999</td>\n",
       "      <td>0.005243</td>\n",
       "    </tr>\n",
       "    <tr>\n",
       "      <th>15170</th>\n",
       "      <td>VZ</td>\n",
       "      <td>2020-02-07</td>\n",
       "      <td>59.939999</td>\n",
       "      <td>0.008412</td>\n",
       "    </tr>\n",
       "  </tbody>\n",
       "</table>\n",
       "<p>15171 rows × 4 columns</p>\n",
       "</div>"
      ],
      "text/plain": [
       "       Firm       Date  Adj Close       ret\n",
       "0      AAPL 2000-01-03   3.470226       NaN\n",
       "1      AAPL 2000-01-04   3.177650 -0.084310\n",
       "2      AAPL 2000-01-05   3.224152  0.014634\n",
       "3      AAPL 2000-01-06   2.945139 -0.086538\n",
       "4      AAPL 2000-01-07   3.084645  0.047368\n",
       "...     ...        ...        ...       ...\n",
       "15166    VZ 2020-02-03  58.049999 -0.023385\n",
       "15167    VZ 2020-02-04  58.290001  0.004134\n",
       "15168    VZ 2020-02-05  59.130001  0.014411\n",
       "15169    VZ 2020-02-06  59.439999  0.005243\n",
       "15170    VZ 2020-02-07  59.939999  0.008412\n",
       "\n",
       "[15171 rows x 4 columns]"
      ]
     },
     "execution_count": 3,
     "metadata": {},
     "output_type": "execute_result"
    }
   ],
   "source": [
    "# add return var.\n",
    "# MAKE SURE YOU CREATE THE VARIABLES WITHIN EACH FIRM - use groupby\n",
    "stock_prices['ret'] = stock_prices.groupby('Firm')['Adj Close'].pct_change()\n",
    "stock_prices # print - the first ret for each firm should be missing..."
   ]
  },
  {
   "cell_type": "markdown",
   "metadata": {},
   "source": [
    "### Questions:\n",
    "1. Check that there are 3 missing observations of `ret`: the first return for each shouldn't exist.\n",
    "1. Describe returns for each firm separately (i.e. make one table), and your answers should match mine below.\n",
    "2. Replicate and then improve each of the three figures below.\n",
    "    - Are there any issues with this data as is? How would you fix it?\n",
    " "
   ]
  },
  {
   "cell_type": "code",
   "execution_count": 4,
   "metadata": {
    "tags": [
     "remove_input"
    ]
   },
   "outputs": [
    {
     "name": "stdout",
     "output_type": "stream",
     "text": [
      "Firm          AAPL         MSFT           VZ\n",
      "count  5056.000000  5056.000000  5056.000000\n",
      "mean      0.001232     0.000494     0.000328\n",
      "std       0.025359     0.018968     0.015351\n",
      "min      -0.518692    -0.155977    -0.118461\n",
      "25%      -0.010334    -0.008045    -0.007229\n",
      "50%       0.000899     0.000337     0.000395\n",
      "75%       0.012946     0.008933     0.007706\n",
      "max       0.139049     0.195652     0.146324\n"
     ]
    },
    {
     "name": "stderr",
     "output_type": "stream",
     "text": [
      "C:\\Users\\DoLe\\Anaconda3\\lib\\site-packages\\pandas\\plotting\\_matplotlib\\converter.py:103: FutureWarning: Using an implicitly registered datetime converter for a matplotlib plotting method. The converter was registered by pandas on import. Future versions of pandas will require you to explicitly register matplotlib converters.\n",
      "\n",
      "To register the converters:\n",
      "\t>>> from pandas.plotting import register_matplotlib_converters\n",
      "\t>>> register_matplotlib_converters()\n",
      "  warnings.warn(msg, FutureWarning)\n"
     ]
    },
    {
     "data": {
      "text/plain": [
       "Text(0.5, 1.0, 'WHAT AN AWFULLY BAD FIGURE')"
      ]
     },
     "execution_count": 4,
     "metadata": {},
     "output_type": "execute_result"
    },
    {
     "data": {
      "image/png": "[encoded data removed]",
      "text/plain": [
       "<Figure size 432x288 with 1 Axes>"
      ]
     },
     "metadata": {
      "needs_background": "light"
     },
     "output_type": "display_data"
    },
    {
     "data": {
      "image/png": "[encoded data removed]",
      "text/plain": [
       "<Figure size 432x288 with 1 Axes>"
      ]
     },
     "metadata": {
      "needs_background": "light"
     },
     "output_type": "display_data"
    },
    {
     "data": {
      "image/png": "[encoded data removed]",
      "text/plain": [
       "<Figure size 432x288 with 1 Axes>"
      ]
     },
     "metadata": {
      "needs_background": "light"
     },
     "output_type": "display_data"
    }
   ],
   "source": [
    "# Q2: describe returns by firm...\n",
    "print(stock_prices.groupby('Firm')['ret'].describe().transpose())\n",
    "\n",
    "# Q3: explot returns with a histogram\n",
    "sns.distplot(stock_prices['ret'].dropna(),kde=False) # distplot cant handle NaNs... \n",
    "            #notice the axis is messed up and wide.... there is that very low return\n",
    "\n",
    "# Q4\n",
    "plt.figure()\n",
    "sns.boxplot(stock_prices['ret']) # WHOA!\n",
    "\n",
    "# Q5\n",
    "plt.figure()\n",
    "sns.lineplot(data=stock_prices,x='Date',y='ret',hue='Firm')\n",
    "plt.title(\"WHAT AN AWFULLY BAD FIGURE\")"
   ]
  },
  {
   "cell_type": "markdown",
   "metadata": {},
   "source": [
    "## Pushing ASGN-02 further\n",
    "\n",
    "Let's make a new figure and explore some new variables, which are described at https://github.com/LeDataSciFi/lectures-spr2020/tree/master/assignment_data\n",
    "\n",
    "Copy this cell into your live coding notebook and run it to get a firm-year (1 obs per firm per year) dataset:\n"
   ]
  },
  {
   "cell_type": "code",
   "execution_count": 5,
   "metadata": {},
   "outputs": [],
   "source": [
    "stocks = pd.read_stata('https://github.com/LeDataSciFi/lectures-spr2020/blob/master/assignment_data/stocks_2006.dta?raw=true')\n",
    "stocks.name = \"Stocks\"\n",
    "\n",
    "# convert to annual return and std deviation \n",
    "annual = pd.DataFrame() # open an empty dataframe\n",
    "annual['ret'] = (stocks.assign(ret=stocks['ret']+1) # now we have R(t) for each observation\n",
    "                       .groupby('permno')['ret']    # for each firm,\n",
    "                       .prod()                      # multiple all the gross returns\n",
    "                       -1                           # and subtract one to get back to the total period return\n",
    ")\n",
    "annual['std'] = stocks.groupby('permno')['ret'].std().mul(np.sqrt(250)) #times sqrt(250) to annualize\n",
    "annual['year'] = stocks.groupby('permno')['date'].first().dt.year\n",
    "\n",
    "# get firm information \n",
    "# this firm file is like prior, but includes more variables\n",
    "# investing, financing, industry competition and more!\n",
    "# VARIABLE DESCRIPTIONS IN README AT: https://github.com/LeDataSciFi/lectures-spr2020/tree/master/assignment_data\n",
    "firms = pd.read_stata('https://github.com/LeDataSciFi/lectures-spr2020/blob/master/assignment_data/firms_2006_fuller.dta?raw=true')\n",
    "firms.name = \"Firms\"\n",
    "\n",
    "# merge firm data with annualized stock data\n",
    "firms = firms.merge(left_on=['lpermno','fyear'], \n",
    "            right=annual, right_on=['permno','year'],\n",
    "            how='inner') \n",
    "\n",
    "# and this is a subsample of a few industries and states\n",
    "subsample = firms.query('state in [\"CA\",\"NY\"] & gsector in [\"40\",\"45\"]') \n"
   ]
  },
  {
   "cell_type": "markdown",
   "metadata": {},
   "source": [
    "### Exercise: Plot returns by industry \n",
    "\n",
    "Scatterplot GSector and Returns, and use the full sample (`firms`).\n",
    "\n",
    "Question 1: What is your reaction to this?\n",
    "\n",
    "Question 2: Choose a different graph type to improve it **visually**.\n"
   ]
  },
  {
   "cell_type": "markdown",
   "metadata": {},
   "source": [
    "### Exercise: Plot returns vs. risk\n",
    "\n",
    "Scatterplot Std and Returns, and use the subsample sample (`subsample`).\n",
    "\n",
    "Question: How can this be improved?\n"
   ]
  },
  {
   "cell_type": "markdown",
   "metadata": {},
   "source": [
    "### Exercise: Plot average returns in the industry\n",
    "\n",
    "Use the full sample and plot the means as a bar chart. \n",
    "\n",
    "Question: How can this be improved?\n"
   ]
  }
 ],
 "metadata": {
  "celltoolbar": "Tags",
  "kernelspec": {
   "display_name": "Python 3",
   "language": "python",
   "name": "python3"
  },
  "language_info": {
   "codemirror_mode": {
    "name": "ipython",
    "version": 3
   },
   "file_extension": ".py",
   "mimetype": "text/x-python",
   "name": "python",
   "nbconvert_exporter": "python",
   "pygments_lexer": "ipython3",
   "version": "3.8.5"
  }
 },
 "nbformat": 4,
 "nbformat_minor": 4
}
