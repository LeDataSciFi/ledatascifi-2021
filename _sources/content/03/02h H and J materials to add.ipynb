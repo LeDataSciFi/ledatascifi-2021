{
 "cells": [
  {
   "cell_type": "markdown",
   "metadata": {},
   "source": [
    "When you wonder about syntax, and arguments, you can either go to the official documentation on the web, or rely on Jupyter's tab auto completion.\n",
    "\n",
    "\n",
    "**Here is a fun trick: `SHIFT+TAB`!** Try it! Type `import pandas as pd` then run that to load pandas. Then type `pd.merge(` like you want to merge to dataframes, except you don't remember the arguments to use. So type `SHIFT+TAB+TAB`. _1 TAB opens a little syntax screen, 2 opens a larger amount of syntax info, and 3 opens the whole help file at the bottom of the screen._ I've personally moved to `SHIFT+TAB` for help most of the time (instead of `help()` or `?`).\n"
   ]
  },
  {
   "cell_type": "markdown",
   "metadata": {},
   "source": [
    "## Outline\n",
    "\n",
    "1. Be patient and persistent: keep going when the scope of `pandas` and your first data analysis exercises stump you!\n",
    "1. Essential functions for data wrangling, statistics, and exploration\n",
    "1. Example: Data wrangling and exploration that is readable and powerful\n",
    "1. Cookbook: Typical data analysis steps, table creation, and figures\n",
    "\n"
   ]
  },
  {
   "cell_type": "markdown",
   "metadata": {},
   "source": [
    "## The essential data wrangling toolkit\n",
    "\n",
    "I imagine you'll return to this page a lot. Today and tomorrow,\n",
    "1. I'm going to make note of a few important tools we have available\n",
    "2. I'll show you an example that illustrates how those tools can be applied\n",
    "3. We'll practice together\n",
    "4. You'll be in position to attack ASGN 02\n",
    "5. Over time and with experience, `pandas` will become less overwhelming and more of a friend!\n",
    "\n",
    "Note 1: \"`df`\" is often used as a name of a generic dataframe in examples. Generally, you should\n",
    "give your dataframes better names!\n",
    "\n",
    "Note 2: There are other ways to do many of these operations. For example (the sidebar illustrates)\n",
    "- `df['feet']=df['height']//12` will create a new column called feet\n",
    "- `df[['gender','height']]` will return just those two columns- \n",
    "- `df.loc[df['feet']==5,'feet'] = np.nan` will overwrite the feet variable only when feet equals 5\n",
    "- More on indexing and selection [here](https://jakevdp.github.io/PythonDataScienceHandbook/03.02-data-indexing-and-selection.html)---highly recommend! If that link is dead: https://jakevdp.github.io/PythonDataScienceHandbook/03.02-data-indexing-and-selection.html\n"
   ]
  },
  {
   "cell_type": "code",
   "execution_count": 1,
   "metadata": {
    "tags": [
     "popout"
    ]
   },
   "outputs": [
    {
     "name": "stdout",
     "output_type": "stream",
     "text": [
      "\n",
      "\n",
      " Original df:\n",
      "    height gender  weight  feet\n",
      "0      72      M     175     6\n",
      "1      60      F     110     5\n",
      "2      68      M     150     5\n",
      "\n",
      "\n",
      " Subset of vars:\n",
      "   gender  height\n",
      "0      M      72\n",
      "1      F      60\n",
      "2      M      68\n",
      "\n",
      "\n",
      " Replace given condition:\n",
      "    height gender  weight  feet\n",
      "0      72      M     175   6.0\n",
      "1      60      F     110   NaN\n",
      "2      68      M     150   NaN\n"
     ]
    }
   ],
   "source": [
    "import pandas as pd # everyone imports pandas as pd\n",
    "import numpy as np\n",
    "df = pd.DataFrame({'height':[72,60,68],'gender':['M','F','M'],'weight':[175,110,150]})\n",
    "\n",
    "df['feet']=df['height']//12\n",
    "print(\"\\n\\n Original df:\\n\",df) \n",
    "print(\"\\n\\n Subset of vars:\\n\",df[['gender','height']])\n",
    "df.loc[df['feet']==5,'feet'] = np.nan\n",
    "print(\"\\n\\n Replace given condition:\\n\",df)"
   ]
  },
  {
   "cell_type": "code",
   "execution_count": 2,
   "metadata": {
    "tags": [
     "popout"
    ]
   },
   "outputs": [
    {
     "name": "stdout",
     "output_type": "stream",
     "text": [
      "Original:\n",
      "            Sales\n",
      "Firm Year       \n",
      "Ford 2000     10\n",
      "     2001     12\n",
      "     2002     14\n",
      "     2003     16\n",
      "GM   2000     11\n",
      "     2001     13\n",
      "     2002     13\n",
      "     2003     15\n",
      "\n",
      "\n",
      "Unstack (make it shorter+wider)\n",
      "on level 0/Firm:\n",
      "      Sales    \n",
      "Firm  Ford  GM\n",
      "Year          \n",
      "2000    10  11\n",
      "2001    12  13\n",
      "2002    14  13\n",
      "2003    16  15\n",
      "\n",
      "\n",
      "Stack it back (make it tall):\n",
      "            Sales\n",
      "Year Firm       \n",
      "2000 Ford     10\n",
      "     GM       11\n",
      "2001 Ford     12\n",
      "     GM       13\n",
      "2002 Ford     14\n",
      "     GM       13\n",
      "2003 Ford     16\n",
      "     GM       15\n",
      "\n",
      "\n",
      "Stack it back and reorder \n",
      "index as before (firm-year):\n",
      "            Sales\n",
      "Firm Year       \n",
      "Ford 2000     10\n",
      "     2001     12\n",
      "     2002     14\n",
      "     2003     16\n",
      "GM   2000     11\n",
      "     2001     13\n",
      "     2002     13\n",
      "     2003     15\n",
      "\n",
      "\n",
      "Unstack level 1/Year:\n",
      "      Sales               \n",
      "Year  2000 2001 2002 2003\n",
      "Firm                     \n",
      "Ford    10   12   14   16\n",
      "GM      11   13   13   15\n"
     ]
    }
   ],
   "source": [
    "# AN ASIDE ON RESHAPING\n",
    "\n",
    "df = pd.Series({   ('Ford',2000):10,\n",
    "                   ('Ford',2001):12,\n",
    "                   ('Ford',2002):14,\n",
    "                   ('Ford',2003):16,\n",
    "                   ('GM',2000):11,\n",
    "                   ('GM',2001):13,\n",
    "                   ('GM',2002):13,\n",
    "                   ('GM',2003):15}).to_frame().rename(columns={0:'Sales'}).rename_axis(['Firm','Year'])\n",
    "print(\"Original:\\n\",df)\n",
    "wide = df.unstack(level=0)\n",
    "print(\"\\n\\nUnstack (make it shorter+wider)\\non level 0/Firm:\\n\",wide) # move index level 0 (firm name) to column\n",
    "tall = wide.stack()\n",
    "print(\"\\n\\nStack it back (make it tall):\\n\",tall) # move index level 0 (firm name) to column\n",
    "print(\"\\n\\nStack it back and reorder \\nindex as before (firm-year):\\n\",tall.swaplevel().sort_index())\n",
    "\n",
    "print(\"\\n\\nUnstack level 1/Year:\\n\",df.unstack(level=1)) # move index level 0 (firm name) to column"
   ]
  },
  {
   "cell_type": "markdown",
   "metadata": {},
   "source": [
    "### Creating summary tables \n",
    "\n",
    "- A big part of the challenge is knowing what \"cuts\" of the data are interesting. You'll figure this out as you get more knowledge in a specific area.\n",
    "- In tables that cut data based on two variables, how do you decide on the \"second variable\" to slice? \n",
    "    1. Secondary slices might be on _a priori_ (known in advance) interesting variables (\"everyone talks about growth potential so I'll also cut by that too because they will wonder about it if I don't\") \n",
    "    2. Or, choose second variables because you think that the impact of the first variable will depend on the second variable. Suppose you divide firms into \"young and old\" as a first slice. Your second slice might be industries: perhaps leverage is only a little lower for older railroad firms but leverage is much higher for large firms in tech industries.\n",
    "    3. Another example: A common data science training dataset is about surviving the Titanic. Women survived at higher rates, but this is **especially** true in first class, where very few women died. The gender disparity was less severe in third class; while third class  men were more likely to perish than first class men, 45% of women in third class died, compared to ~0 in first class. \n",
    "\n",
    "**Essential reading.** Rather than me replicating these pages, read these after class, follow them, and save snippets of code you find useful to your growing cheat sheet.\n",
    "\n",
    "- [Aggregation and grouping](https://jakevdp.github.io/PythonDataScienceHandbook/03.08-aggregation-and-grouping.html)\n",
    "- [Pivot tables](https://jakevdp.github.io/PythonDataScienceHandbook/03.09-pivot-tables.html)"
   ]
  },
  {
   "cell_type": "markdown",
   "metadata": {},
   "source": [
    "## Credits\n",
    "\n",
    "Here are some links I found that I liked. They cover many aspects of `panda`ing:\n",
    "1. [This covers indexing and slicing issues nicely](https://tomaugspurger.github.io/modern-1-intro)\n",
    "2. [This covers method chaining so that Python can approximate R's elegance at data wrangling and plotting](https://stmorse.github.io/journal/tidyverse-style-pandas.html)\n",
    "2. [This also has nice and quick examples showing Python matching R functions](https://gist.github.com/conormm/fd8b1980c28dd21cfaf6975c86c74d07)\n",
    "3. [The most popular questions about `pandas` on Stackoverflow.](https://stackoverflow.com/questions/tagged/pandas?sort=votes&pageSize=50) This will give you an idea of common places others get stuck, and slicing and indexing issues are high on the list.\n",
    "4. https://www.textbook.ds100.org\n"
   ]
  },
  {
   "cell_type": "code",
   "execution_count": 3,
   "metadata": {},
   "outputs": [],
   "source": [
    "import pandas as pd\n",
    "import pandas_datareader as pdr # IF NECESSARY, from terminal: pip install pandas_datareader \n",
    "import datetime\n",
    "import datadotworld as dw # follow instructions for installing and using dw in accompanying lecture\n",
    "import numpy as np"
   ]
  },
  {
   "cell_type": "markdown",
   "metadata": {},
   "source": [
    "### A side lesson: What on earth is **`lambda`**? \n",
    "\n",
    "Can you survive without learning `lambda`? Yes. \n",
    "\n",
    "But knowing `lambda` will make you a more powerful programmer, because it lets you define functions very quickly. And this is very useful! For example, the `agg` function can apply any function, not just built-in ones, and sometimes you'll want to use non built-in functions!\n",
    "\n",
    "So, generally, the syntax is `<fcn_name> = lambda <argument> : <function>`."
   ]
  },
  {
   "cell_type": "code",
   "execution_count": 7,
   "metadata": {},
   "outputs": [
    {
     "name": "stdout",
     "output_type": "stream",
     "text": [
      "35\n"
     ]
    }
   ],
   "source": [
    "my_fcn = lambda a : a*5 # if I call my_fcn(7), python will set a=7, then evalute the function a*5\n",
    "print(my_fcn(7))"
   ]
  },
  {
   "cell_type": "markdown",
   "metadata": {},
   "source": [
    "Now, in the example above inside `agg()` I never named the function. That's because it's unnecessary in that context, python knows to immediately call it."
   ]
  },
  {
   "cell_type": "markdown",
   "metadata": {},
   "source": [
    "### Maybe you say \"I hate that and will never ever write a lambda. How can I accomplish the problem above anyways?\"\n",
    "\n",
    "Well, I'm sorry to hear that! Here is what you could do:"
   ]
  },
  {
   "cell_type": "code",
   "execution_count": 9,
   "metadata": {},
   "outputs": [
    {
     "data": {
      "text/html": [
       "<div>\n",
       "<style scoped>\n",
       "    .dataframe tbody tr th:only-of-type {\n",
       "        vertical-align: middle;\n",
       "    }\n",
       "\n",
       "    .dataframe tbody tr th {\n",
       "        vertical-align: top;\n",
       "    }\n",
       "\n",
       "    .dataframe thead th {\n",
       "        text-align: right;\n",
       "    }\n",
       "</style>\n",
       "<table border=\"1\" class=\"dataframe\">\n",
       "  <thead>\n",
       "    <tr style=\"text-align: right;\">\n",
       "      <th>sex</th>\n",
       "      <th>F</th>\n",
       "      <th>M</th>\n",
       "    </tr>\n",
       "    <tr>\n",
       "      <th>year</th>\n",
       "      <th></th>\n",
       "      <th></th>\n",
       "    </tr>\n",
       "  </thead>\n",
       "  <tbody>\n",
       "    <tr>\n",
       "      <th>1999</th>\n",
       "      <td>Emily</td>\n",
       "      <td>Jacob</td>\n",
       "    </tr>\n",
       "    <tr>\n",
       "      <th>2000</th>\n",
       "      <td>Emily</td>\n",
       "      <td>Jacob</td>\n",
       "    </tr>\n",
       "    <tr>\n",
       "      <th>2001</th>\n",
       "      <td>Emily</td>\n",
       "      <td>Jacob</td>\n",
       "    </tr>\n",
       "    <tr>\n",
       "      <th>2002</th>\n",
       "      <td>Emily</td>\n",
       "      <td>Jacob</td>\n",
       "    </tr>\n",
       "    <tr>\n",
       "      <th>2003</th>\n",
       "      <td>Emily</td>\n",
       "      <td>Jacob</td>\n",
       "    </tr>\n",
       "    <tr>\n",
       "      <th>2004</th>\n",
       "      <td>Emily</td>\n",
       "      <td>Jacob</td>\n",
       "    </tr>\n",
       "    <tr>\n",
       "      <th>2005</th>\n",
       "      <td>Emily</td>\n",
       "      <td>Jacob</td>\n",
       "    </tr>\n",
       "    <tr>\n",
       "      <th>2006</th>\n",
       "      <td>Emily</td>\n",
       "      <td>Jacob</td>\n",
       "    </tr>\n",
       "    <tr>\n",
       "      <th>2007</th>\n",
       "      <td>Emily</td>\n",
       "      <td>Jacob</td>\n",
       "    </tr>\n",
       "    <tr>\n",
       "      <th>2008</th>\n",
       "      <td>Emma</td>\n",
       "      <td>Jacob</td>\n",
       "    </tr>\n",
       "    <tr>\n",
       "      <th>2009</th>\n",
       "      <td>Isabella</td>\n",
       "      <td>Jacob</td>\n",
       "    </tr>\n",
       "    <tr>\n",
       "      <th>2010</th>\n",
       "      <td>Isabella</td>\n",
       "      <td>Jacob</td>\n",
       "    </tr>\n",
       "    <tr>\n",
       "      <th>2011</th>\n",
       "      <td>Sophia</td>\n",
       "      <td>Jacob</td>\n",
       "    </tr>\n",
       "    <tr>\n",
       "      <th>2012</th>\n",
       "      <td>Sophia</td>\n",
       "      <td>Jacob</td>\n",
       "    </tr>\n",
       "    <tr>\n",
       "      <th>2013</th>\n",
       "      <td>Sophia</td>\n",
       "      <td>Noah</td>\n",
       "    </tr>\n",
       "    <tr>\n",
       "      <th>2014</th>\n",
       "      <td>Emma</td>\n",
       "      <td>Noah</td>\n",
       "    </tr>\n",
       "    <tr>\n",
       "      <th>2015</th>\n",
       "      <td>Emma</td>\n",
       "      <td>Noah</td>\n",
       "    </tr>\n",
       "    <tr>\n",
       "      <th>2016</th>\n",
       "      <td>Emma</td>\n",
       "      <td>Noah</td>\n",
       "    </tr>\n",
       "    <tr>\n",
       "      <th>2017</th>\n",
       "      <td>Emma</td>\n",
       "      <td>Liam</td>\n",
       "    </tr>\n",
       "    <tr>\n",
       "      <th>2018</th>\n",
       "      <td>Emma</td>\n",
       "      <td>Liam</td>\n",
       "    </tr>\n",
       "  </tbody>\n",
       "</table>\n",
       "</div>"
      ],
      "text/plain": [
       "sex          F      M\n",
       "year                 \n",
       "1999     Emily  Jacob\n",
       "2000     Emily  Jacob\n",
       "2001     Emily  Jacob\n",
       "2002     Emily  Jacob\n",
       "2003     Emily  Jacob\n",
       "2004     Emily  Jacob\n",
       "2005     Emily  Jacob\n",
       "2006     Emily  Jacob\n",
       "2007     Emily  Jacob\n",
       "2008      Emma  Jacob\n",
       "2009  Isabella  Jacob\n",
       "2010  Isabella  Jacob\n",
       "2011    Sophia  Jacob\n",
       "2012    Sophia  Jacob\n",
       "2013    Sophia   Noah\n",
       "2014      Emma   Noah\n",
       "2015      Emma   Noah\n",
       "2016      Emma   Noah\n",
       "2017      Emma   Liam\n",
       "2018      Emma   Liam"
      ]
     },
     "execution_count": 9,
     "metadata": {},
     "output_type": "execute_result"
    }
   ],
   "source": [
    "def return_first_element(df):\n",
    "    return df.iloc[0]\n",
    "\n",
    "(baby_names.sort_values(['year','sex','count'],ascending=False) # sort descending so most popular name first\n",
    "     .groupby(['year','sex']) # group by year and gender \n",
    "     .agg(return_first_element) # keep the first (most popular) name each year\n",
    "     ['name'] # keep only the name variable\n",
    "     .unstack() # format wide\n",
    "     [-20:]\n",
    ")"
   ]
  }
 ],
 "metadata": {
  "celltoolbar": "Tags",
  "kernelspec": {
   "display_name": "Python 3",
   "language": "python",
   "name": "python3"
  },
  "language_info": {
   "codemirror_mode": {
    "name": "ipython",
    "version": 3
   },
   "file_extension": ".py",
   "mimetype": "text/x-python",
   "name": "python",
   "nbconvert_exporter": "python",
   "pygments_lexer": "ipython3",
   "version": "3.8.5"
  }
 },
 "nbformat": 4,
 "nbformat_minor": 4
}
