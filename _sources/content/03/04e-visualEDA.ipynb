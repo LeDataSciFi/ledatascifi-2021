{
 "cells": [
  {
   "cell_type": "markdown",
   "metadata": {},
   "source": [
    "# Visual EDA\n",
    "\n",
    "The [first page of this chapter](04b-whyplot) discussed the reasons we plot our data. \n",
    "1. Data cleaning: To find issues in the data that need to get fixed before we can do larger analysis\n",
    "2. Data exploration: Learning about each of the variables, how they covary, and what further questions you can ask of the data\n",
    "3. Analysis and presentation\n",
    "\n"
   ]
  }
 ],
 "metadata": {
  "kernelspec": {
   "display_name": "Python 3",
   "language": "python",
   "name": "python3"
  },
  "language_info": {
   "codemirror_mode": {
    "name": "ipython",
    "version": 3
   },
   "file_extension": ".py",
   "mimetype": "text/x-python",
   "name": "python",
   "nbconvert_exporter": "python",
   "pygments_lexer": "ipython3",
   "version": "3.8.5"
  }
 },
 "nbformat": 4,
 "nbformat_minor": 4
}
