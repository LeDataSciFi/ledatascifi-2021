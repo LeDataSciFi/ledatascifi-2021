{
 "cells": [
  {
   "cell_type": "markdown",
   "metadata": {
    "slideshow": {
     "slide_type": "slide"
    }
   },
   "source": [
    "# Model Balance and Feature Importance\n",
    "\n",
    "1. Classification models with imbalanced data\n",
    "1. Visualizing trees\n",
    "1. Feature importance\n",
    "\n",
    "As I said last class, the main drawback with ensembles is usually imbalanced classification and interpretation.\n"
   ]
  },
  {
   "cell_type": "code",
   "execution_count": 15,
   "metadata": {
    "slideshow": {
     "slide_type": "notes"
    }
   },
   "outputs": [],
   "source": [
    "# import lots of functions\n",
    "import pandas as pd\n",
    "import matplotlib.pyplot as plt  \n",
    "\n",
    "from sklearn.model_selection import train_test_split\n",
    "from sklearn.preprocessing import OneHotEncoder \n",
    "from sklearn.compose import ColumnTransformer, make_column_selector\n",
    "from sklearn.preprocessing import StandardScaler \n",
    "from sklearn.linear_model import LogisticRegression\n",
    "from sklearn.pipeline import make_pipeline \n",
    "from sklearn.impute import SimpleImputer\n",
    "from df_after_transform import df_after_transform\n",
    "from sklearn.model_selection import KFold, cross_validate, GridSearchCV\n",
    "from sklearn.metrics import confusion_matrix\n"
   ]
  },
  {
   "cell_type": "code",
   "execution_count": 16,
   "metadata": {
    "slideshow": {
     "slide_type": "notes"
    }
   },
   "outputs": [],
   "source": [
    "# load data \n",
    "loans = pd.read_csv('lendingclub/2013_subsample.zip')\n"
   ]
  },
  {
   "cell_type": "code",
   "execution_count": 17,
   "metadata": {
    "slideshow": {
     "slide_type": "notes"
    }
   },
   "outputs": [],
   "source": [
    "# split to test and train (link to split page/sk docs)\n",
    "\n",
    "# first let's separate y from X\n",
    "y = loans.loan_status == 'Charged Off'\n",
    "y.value_counts()\n",
    "loans = loans.drop('loan_status',axis=1)\n",
    "\n",
    "# stratify will make sure that test/train both have equal fractions of outcome\n",
    "X_train, X_test, y_train, y_test = train_test_split(loans, y, stratify=y, test_size=.2, random_state=0)\n"
   ]
  },
  {
   "cell_type": "code",
   "execution_count": 18,
   "metadata": {
    "slideshow": {
     "slide_type": "notes"
    }
   },
   "outputs": [],
   "source": [
    "## optimize a series of models \n",
    "\n",
    "# set up pipeline to clean each type of variable (1 pipe per var type)\n",
    "\n",
    "numer_pipe = make_pipeline(SimpleImputer(),StandardScaler()) \n",
    "cat_pipe   = make_pipeline(OneHotEncoder(drop='first'))\n",
    "\n",
    "# combine those pipes into \"preprocess\" pipe\n",
    "\n",
    "preproc_pipe = ColumnTransformer(  \n",
    "    [ # arg 1 of ColumnTransformer is a list, so this starts the list\n",
    "    # a tuple for the numerical vars: name, pipe, which vars to apply to\n",
    "    (\"num_impute\", numer_pipe, ['annual_inc']),\n",
    "    # a tuple for the categorical vars: name, pipe, which vars to apply to\n",
    "    (\"cat_trans\", cat_pipe, ['grade'])\n",
    "    ]\n",
    "    , remainder = 'drop' # you either drop or passthrough any vars not modified above\n",
    ")"
   ]
  },
  {
   "cell_type": "markdown",
   "metadata": {
    "slideshow": {
     "slide_type": "subslide"
    }
   },
   "source": [
    "Like last lecture, I've imported the Lending Club data. \n",
    "\n",
    "Like all real datasets, its outcome variable is imbalanced."
   ]
  },
  {
   "cell_type": "code",
   "execution_count": 19,
   "metadata": {
    "slideshow": {
     "slide_type": "fragment"
    }
   },
   "outputs": [
    {
     "data": {
      "text/plain": [
       "False    0.844\n",
       "True     0.156\n",
       "Name: loan_status, dtype: float64"
      ]
     },
     "execution_count": 19,
     "metadata": {},
     "output_type": "execute_result"
    }
   ],
   "source": [
    "y_train.value_counts(normalize=True).round(3)"
   ]
  },
  {
   "cell_type": "markdown",
   "metadata": {
    "slideshow": {
     "slide_type": "subslide"
    }
   },
   "source": [
    "## Ways to deal with imbalanced data\n",
    "\n",
    "1. Add data (oversample underrepresented group) \n",
    "    - Slower estimations (more data)\n",
    "1. Remove data (undersample overrepresented group)\n",
    "    - Throws data away (hurts predictions!) but estimations faster\n",
    "    - Tradeoff can be worth it: more speed and possibly similar or better predictions\n",
    "1. Change estimator to \"weight\" groups equally\n",
    "    - `class-weight=’balanced’` in trees, logit\n",
    "    - like oversampling, except no slowdown"
   ]
  },
  {
   "cell_type": "markdown",
   "metadata": {
    "slideshow": {
     "slide_type": "fragment"
    }
   },
   "source": [
    "### 🔥🔥🔥 Practical tips: 🔥🔥🔥\n",
    "- What works best varies between applications (no \"dominant\")\n",
    "- Try weighting if estimator will let you, then undersampling"
   ]
  },
  {
   "cell_type": "markdown",
   "metadata": {
    "slideshow": {
     "slide_type": "slide"
    }
   },
   "source": [
    "## Examples - dealing with imbalance\n",
    "\n",
    "So this was last time, predictions of default had a precision of 22%, and only 3% of defaults were predicted in advance. (BAD RECALL!)"
   ]
  },
  {
   "cell_type": "code",
   "execution_count": 22,
   "metadata": {
    "slideshow": {
     "slide_type": "subslide"
    }
   },
   "outputs": [
    {
     "data": {
      "text/plain": [
       "611"
      ]
     },
     "execution_count": 22,
     "metadata": {},
     "output_type": "execute_result"
    }
   ],
   "source": [
    "from sklearn.tree import DecisionTreeClassifier\n",
    "from sklearn.metrics import classification_report\n",
    "from sklearn.metrics import plot_confusion_matrix\n",
    "\n",
    "tree_clf = make_pipeline(preproc_pipe, DecisionTreeClassifier())\n",
    "tree_clf.fit(X_train, y_train)\n",
    "\n",
    "tree_clf.predict(X_test).sum() # number of rejections under old model\n",
    "\n",
    "# print(classification_report(y_test, tree_clf.predict(X_test)) )\n",
    "# plot_confusion_matrix(tree_clf, X_test, y_test, normalize='pred') \n",
    "# plt.show()"
   ]
  },
  {
   "cell_type": "markdown",
   "metadata": {
    "slideshow": {
     "slide_type": "slide"
    }
   },
   "source": [
    "### Class weighting...\n",
    "\n",
    "...like oversampling but without increasing the training speed. The tip on dealing with imbalanced data is\n",
    "\n",
    "> \"Try weighting if estimator will let you, then undersampling\"\n",
    "\n",
    "So let's add `class_weight='balanced'` to the Tree."
   ]
  },
  {
   "cell_type": "markdown",
   "metadata": {
    "slideshow": {
     "slide_type": "subslide"
    }
   },
   "source": [
    "1. So, how well do we do at predicting loan defaults?\n",
    "1. How \"accurate\" is our model?"
   ]
  },
  {
   "cell_type": "code",
   "execution_count": 23,
   "metadata": {
    "slideshow": {
     "slide_type": "fragment"
    }
   },
   "outputs": [
    {
     "data": {
      "text/plain": [
       "11879"
      ]
     },
     "execution_count": 23,
     "metadata": {},
     "output_type": "execute_result"
    }
   ],
   "source": [
    "tree_clf = make_pipeline(preproc_pipe, DecisionTreeClassifier(class_weight='balanced'))\n",
    "tree_clf.fit(X_train, y_train)\n",
    "# print(classification_report(y_test, tree_clf.predict(X_test)) )\n",
    "# plot_confusion_matrix(tree_clf, X_test, y_test, normalize='pred') \n",
    "# plt.show()\n",
    "\n",
    "tree_clf.predict(X_test).sum() # number of rejections under old model\n"
   ]
  },
  {
   "cell_type": "markdown",
   "metadata": {
    "slideshow": {
     "slide_type": "subslide"
    }
   },
   "source": [
    "So the lessons here:\n",
    "\n",
    "1. Beware high accuracy models unless you see the classification report or confusion matrix!\n",
    "1. Depending on the application, a lower accuracy score might be strongly preferred if sensitivity/recall or precision matters.\n"
   ]
  },
  {
   "cell_type": "markdown",
   "metadata": {
    "slideshow": {
     "slide_type": "slide"
    }
   },
   "source": [
    "### Undersampling (and over)\n",
    "\n",
    "Undersampling and over sampling can't be done within sklearn pipelines \"out of the box\", so we will install and use a package that extends the sklearn API.\n",
    "\n",
    "https://imbalanced-learn.org/\n",
    "\n",
    "`pip install -U imbalanced-learn`"
   ]
  },
  {
   "cell_type": "markdown",
   "metadata": {
    "slideshow": {
     "slide_type": "subslide"
    }
   },
   "source": [
    "Compare the recall and accuracy to the last class's version without fixes (3% and 83%)."
   ]
  },
  {
   "cell_type": "code",
   "execution_count": 8,
   "metadata": {
    "slideshow": {
     "slide_type": "fragment"
    }
   },
   "outputs": [
    {
     "name": "stdout",
     "output_type": "stream",
     "text": [
      "              precision    recall  f1-score   support\n",
      "\n",
      "       False       0.89      0.59      0.71     22756\n",
      "        True       0.22      0.62      0.32      4205\n",
      "\n",
      "    accuracy                           0.60     26961\n",
      "   macro avg       0.56      0.61      0.52     26961\n",
      "weighted avg       0.79      0.60      0.65     26961\n",
      "\n"
     ]
    },
    {
     "data": {
      "image/png": "[encoded data removed]",
      "text/plain": [
       "<Figure size 432x288 with 2 Axes>"
      ]
     },
     "metadata": {
      "needs_background": "light"
     },
     "output_type": "display_data"
    }
   ],
   "source": [
    "# the under sampler\n",
    "from imblearn.under_sampling import RandomUnderSampler\n",
    "# sklearn pipelines won't work for sampling - use the imblearn pipeline\n",
    "# here I name it differently to clarify that it isnt the sklearn make_pipeline\n",
    "from imblearn.pipeline import make_pipeline as make_imb_pipeline\n",
    "\n",
    "tree_clf = make_imb_pipeline(RandomUnderSampler(),\n",
    "                             preproc_pipe, DecisionTreeClassifier())\n",
    "tree_clf.fit(X_train, y_train)\n",
    "print(classification_report(y_test, tree_clf.predict(X_test)) )\n",
    "plot_confusion_matrix(tree_clf, X_test, y_test, normalize='true')\n",
    "plt.show()"
   ]
  },
  {
   "cell_type": "markdown",
   "metadata": {
    "slideshow": {
     "slide_type": "subslide"
    }
   },
   "source": [
    "Over sampling is procedurally the same. \n",
    "\n",
    "In this example, the recall on defaults is a little lower than the undersampling (way to go undersampling!), while most other numbers are slightly higher."
   ]
  },
  {
   "cell_type": "code",
   "execution_count": 9,
   "metadata": {
    "slideshow": {
     "slide_type": "fragment"
    }
   },
   "outputs": [
    {
     "name": "stdout",
     "output_type": "stream",
     "text": [
      "              precision    recall  f1-score   support\n",
      "\n",
      "       False       0.89      0.60      0.72     22756\n",
      "        True       0.22      0.61      0.32      4205\n",
      "\n",
      "    accuracy                           0.60     26961\n",
      "   macro avg       0.55      0.60      0.52     26961\n",
      "weighted avg       0.79      0.60      0.65     26961\n",
      "\n"
     ]
    },
    {
     "data": {
      "image/png": "[encoded data removed]",
      "text/plain": [
       "<Figure size 432x288 with 2 Axes>"
      ]
     },
     "metadata": {
      "needs_background": "light"
     },
     "output_type": "display_data"
    }
   ],
   "source": [
    "from imblearn.over_sampling import RandomOverSampler\n",
    "\n",
    "tree_clf = make_imb_pipeline(RandomOverSampler(),\n",
    "                             preproc_pipe, DecisionTreeClassifier())\n",
    "tree_clf.fit(X_train, y_train)\n",
    "print(classification_report(y_test, tree_clf.predict(X_test)) )\n",
    "plot_confusion_matrix(tree_clf, X_test, y_test, normalize='true')\n",
    "plt.show()"
   ]
  },
  {
   "cell_type": "markdown",
   "metadata": {
    "slideshow": {
     "slide_type": "slide"
    }
   },
   "source": [
    "## Visualizing trees\n",
    "\n",
    "1. Plotting a tree: `tree.plot_tree(<tree object>)`\n",
    "    - Good idea: Restrict depth to 3 or so layers, then plot\n",
    "    - `dtreeviz` is a really nice tree visualizing package\n",
    "    - Other\n",
    "1. Plot the \"decision surface\". \n",
    "    - Can be a pain with real data..."
   ]
  },
  {
   "cell_type": "code",
   "execution_count": 28,
   "metadata": {
    "slideshow": {
     "slide_type": "subslide"
    }
   },
   "outputs": [
    {
     "data": {
      "image/png": "[encoded data removed]",
      "text/plain": [
       "<Figure size 864x576 with 1 Axes>"
      ]
     },
     "metadata": {
      "needs_background": "light"
     },
     "output_type": "display_data"
    }
   ],
   "source": [
    "# i'm just changing this to only use 2 numerical values\n",
    "preproc_pipe = ColumnTransformer([(\"num_impute\", numer_pipe, ['annual_inc','dti'])]\n",
    "                                , remainder = 'drop')\n",
    "\n",
    "# only do tree to 2 levels\n",
    "tree_clf = make_pipeline(preproc_pipe, \n",
    "                         DecisionTreeClassifier(class_weight='balanced',\n",
    "                                                max_depth=2))\n",
    "tree_clf.fit(X_train, y_train)\n",
    "\n",
    "from sklearn import tree\n",
    "fig, ax = plt.subplots(figsize=(12,8))\n",
    "tree.plot_tree(tree_clf['decisiontreeclassifier'], ax=ax,\n",
    "              filled=True,feature_names = ['annual_inc','dti'],\n",
    "              class_names = ['Repaid','Charge Off'])\n",
    "plt.show()"
   ]
  },
  {
   "cell_type": "code",
   "execution_count": 11,
   "metadata": {
    "slideshow": {
     "slide_type": "notes"
    }
   },
   "outputs": [],
   "source": [
    "from df_after_transform import df_after_transform\n",
    "import numpy as np\n",
    "\n",
    "X = df_after_transform(preproc_pipe,X_train)\n",
    "y = y_train.copy() # from https://scikit-learn.org/stable/auto_examples/tree/plot_iris_dtc.html\n",
    "\n"
   ]
  },
  {
   "cell_type": "code",
   "execution_count": 12,
   "metadata": {
    "slideshow": {
     "slide_type": "subslide"
    },
    "tags": [
     "remove-input",
     "hide-input"
    ]
   },
   "outputs": [
    {
     "data": {
      "image/png": "[encoded data removed]",
      "text/plain": [
       "<Figure size 432x288 with 1 Axes>"
      ]
     },
     "metadata": {
      "needs_background": "light"
     },
     "output_type": "display_data"
    }
   ],
   "source": [
    "n_classes = 2\n",
    "# define bounds of the domain\n",
    "min1, max1 = X.iloc[:, 0].min()-1, X.iloc[:, 0].max()+1\n",
    "min2, max2 = X.iloc[:, 1].min()-1, X.iloc[:, 1].max()+1\n",
    "# define the x and y scale\n",
    "x1grid = np.arange(min1, max1, 0.1)\n",
    "x2grid = np.arange(min2, max2, 0.1)\n",
    "# create all of the lines and rows of the grid\n",
    "xx, yy = np.meshgrid(x1grid, x2grid)\n",
    "# flatten each grid to a vector\n",
    "r1, r2 = xx.flatten(), yy.flatten()\n",
    "r1, r2 = r1.reshape((len(r1), 1)), r2.reshape((len(r2), 1))\n",
    "# horizontal stack vectors to create x1,x2 input for the model\n",
    "grid = np.hstack((r1,r2))\n",
    "# define the model\n",
    "model = tree_clf\n",
    "# fit the model\n",
    "model.fit(X, y)\n",
    "# make predictions for the grid\n",
    "yhat = model.predict(pd.DataFrame(grid,columns=['annual_inc','dti']))\n",
    "# reshape the predictions back into a grid\n",
    "zz = yhat.reshape(xx.shape)\n",
    "# plot the grid of x, y and z values as a surface\n",
    "plt.contourf(xx, yy, zz, cmap='Paired')\n",
    "# create scatter plot for samples from each class\n",
    "# Plot the training points\n",
    "for i, color in zip(range(n_classes), \"rb\"):\n",
    "    idx = np.where(y == i)\n",
    "    plt.scatter(X.values[idx, 0], X.values[idx, 1], c=color, \n",
    "                cmap=plt.cm.RdYlBu, edgecolor='black', s=15) #label=iris.target_names[i],\n",
    "plt.show()\n"
   ]
  },
  {
   "cell_type": "markdown",
   "metadata": {
    "slideshow": {
     "slide_type": "slide"
    }
   },
   "source": [
    "## Feature importance\n",
    "\n",
    "- One way to visualize importance\n",
    "- Akin to looking at top levels of a tree\n",
    "- Caution"
   ]
  },
  {
   "cell_type": "code",
   "execution_count": 13,
   "metadata": {},
   "outputs": [
    {
     "data": {
      "text/html": [
       "<div>\n",
       "<style scoped>\n",
       "    .dataframe tbody tr th:only-of-type {\n",
       "        vertical-align: middle;\n",
       "    }\n",
       "\n",
       "    .dataframe tbody tr th {\n",
       "        vertical-align: top;\n",
       "    }\n",
       "\n",
       "    .dataframe thead th {\n",
       "        text-align: right;\n",
       "    }\n",
       "</style>\n",
       "<table border=\"1\" class=\"dataframe\">\n",
       "  <thead>\n",
       "    <tr style=\"text-align: right;\">\n",
       "      <th></th>\n",
       "      <th>0</th>\n",
       "    </tr>\n",
       "  </thead>\n",
       "  <tbody>\n",
       "    <tr>\n",
       "      <th>annual_inc</th>\n",
       "      <td>0.390699</td>\n",
       "    </tr>\n",
       "    <tr>\n",
       "      <th>dti</th>\n",
       "      <td>0.609301</td>\n",
       "    </tr>\n",
       "  </tbody>\n",
       "</table>\n",
       "</div>"
      ],
      "text/plain": [
       "                   0\n",
       "annual_inc  0.390699\n",
       "dti         0.609301"
      ]
     },
     "execution_count": 13,
     "metadata": {},
     "output_type": "execute_result"
    }
   ],
   "source": [
    "tree_clf = make_pipeline(preproc_pipe, DecisionTreeClassifier())\n",
    "tree_clf.fit(X_train, y_train)\n",
    "importances = tree_clf['decisiontreeclassifier'].feature_importances_\n",
    "\n",
    "importances = pd.DataFrame(importances, \n",
    "                               index=df_after_transform(preproc_pipe,X_train).columns\n",
    ")\n",
    "importances"
   ]
  }
 ],
 "metadata": {
  "kernelspec": {
   "display_name": "Python 3",
   "language": "python",
   "name": "python3"
  },
  "language_info": {
   "codemirror_mode": {
    "name": "ipython",
    "version": 3
   },
   "file_extension": ".py",
   "mimetype": "text/x-python",
   "name": "python",
   "nbconvert_exporter": "python",
   "pygments_lexer": "ipython3",
   "version": "3.8.5"
  }
 },
 "nbformat": 4,
 "nbformat_minor": 4
}
