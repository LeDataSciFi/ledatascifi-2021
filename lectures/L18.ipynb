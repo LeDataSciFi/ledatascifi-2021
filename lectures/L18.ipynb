{
 "cells": [
  {
   "cell_type": "code",
   "execution_count": null,
   "metadata": {},
   "outputs": [],
   "source": [
    "\n",
    "Finish up interpretation (<15min)\n",
    "\n",
    "20: T-stats, p-vals and hypothesis testing\n",
    "    *vocab*: null, se, t-stat, p-val\n",
    "    null hypothesis: thing we aim to reject. (usually: beta = 0)\n",
    "    beta estimation has se\n",
    "    t-stat = beta/se\n",
    "    p-val is a function of t-stat = probability that we would see a beta of this size by random chance\n",
    "    \n",
    "    if p-val is below 5% (or t above 1.96), often said: \"the relationship between x and y are statistically significant, and the \n",
    "        magnitude of the relationship is beta.\"\n",
    "        1. \"stat significance\" does NOT mean \"significant\"!\n",
    "            small coefficients\n",
    "            relationship is not\n",
    "        2. typical: we estimate that beta=/=0, article says something like X causes y...   \n",
    "            \n",
    "40: Problems that cause biased measurement of beta\n",
    "    omitted variables    (\"CEO ability\",\"firm quality\")\n",
    "    mismeasurement       (\"CEO ability\",marginal Q)\n",
    "    simultaneity         (think: \"equilibrium\")\n",
    "    sample selection     (effect of diversification of a firm on profitability)\n",
    "    reverse causality\n",
    "    spurious correlation\n",
    "    p-hakcing (538)\n",
    "    other violations of BLUE: heteroskedastic errors, clustering, etc...    \n",
    "    discussion of articles - trace validity back to this framework\n",
    "    "
   ]
  }
 ],
 "metadata": {
  "kernelspec": {
   "display_name": "Python 3",
   "language": "python",
   "name": "python3"
  },
  "language_info": {
   "codemirror_mode": {
    "name": "ipython",
    "version": 3
   },
   "file_extension": ".py",
   "mimetype": "text/x-python",
   "name": "python",
   "nbconvert_exporter": "python",
   "pygments_lexer": "ipython3",
   "version": "3.8.5"
  }
 },
 "nbformat": 4,
 "nbformat_minor": 4
}
