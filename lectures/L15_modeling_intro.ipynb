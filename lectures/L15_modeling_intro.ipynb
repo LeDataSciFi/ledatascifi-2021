{
 "cells": [
  {
   "cell_type": "markdown",
   "metadata": {
    "slideshow": {
     "slide_type": "slide"
    }
   },
   "source": [
    "# Hello! Today...\n",
    "\n",
    "- (QUICKLY) ASGN 5 Q&A - general, no code talk\n",
    "- Remainder: Start talking about modeling\n",
    "\n",
    "_No recording today_"
   ]
  },
  {
   "cell_type": "markdown",
   "metadata": {
    "slideshow": {
     "slide_type": "slide"
    }
   },
   "source": [
    "## Powering up\n",
    "\n",
    "_You are nearly done with a your first farm-to-table analysis. One big question for your findings: Are the correlations real? Will the they hold up to more rigorous scrutiny?_"
   ]
  },
  {
   "cell_type": "markdown",
   "metadata": {
    "slideshow": {
     "slide_type": "fragment"
    }
   },
   "source": [
    "[Over the next month](https://ledatascifi.github.io/ledatascifi-2021/content/about/schedule.html), we going to look at\n",
    "- putting possible relationships under more scrutiny\n",
    "- building prediction models\n",
    "- working as a team"
   ]
  },
  {
   "cell_type": "markdown",
   "metadata": {
    "slideshow": {
     "slide_type": "subslide"
    }
   },
   "source": [
    "### This will be fun!\n",
    "\n",
    "![](https://media.giphy.com/media/LW4nOT7mAVaZq/giphy.gif)\n"
   ]
  },
  {
   "cell_type": "markdown",
   "metadata": {
    "slideshow": {
     "slide_type": "subslide"
    }
   },
   "source": [
    "### Methods:\n",
    "- regression (how-to, why-to, and what it \"means\")\n",
    "- logit, and some quick passes at other algorithms\n",
    "- A grab bag of ML algos... but less focus on these than \"WHY\" we are doing what we are doing\n",
    "\n"
   ]
  },
  {
   "cell_type": "markdown",
   "metadata": {
    "slideshow": {
     "slide_type": "slide"
    }
   },
   "source": [
    "## Modelling discussion\n",
    "\n",
    "- Read and discuss: 5.1.1\n",
    "- 5.2.1 - 5.2.3\n",
    "    - Let me lead us through this a bit, highlighting key pieces\n",
    "    - Case discussion: Aire (work through the summary steps, no record)\n",
    "    - Team exercise: Work through the summary steps while discussing A5\n",
    "    \n",
    "**KEY takeaways**\n",
    "1. Modelling is not: `<model>.fit(X_train,y_train)` and then `<model>.predict(X_test,y_test)`\n",
    "1. Is your Q about relationships or prediction? Answer determines if\n",
    "    - you care about $\\hat{\\beta}$ or  $\\hat{y}$?\n",
    "    - a black box model works for you or not?\n",
    "    - preference for parsimony, need for data summation\n",
    "1. Estimating a model:  `<model>(<model parameters>).fit(X,y)`     \n",
    "\n",
    "\n",
    "\n"
   ]
  },
  {
   "cell_type": "markdown",
   "metadata": {
    "slideshow": {
     "slide_type": "subslide"
    }
   },
   "source": [
    "## Next class\n",
    "\n",
    "- The mechanics of running regressions\n",
    "\n",
    "### Student demos \n",
    "- Task: I'll send data and a regression to do tomorrow morning\n",
    "- Morning: Manuel (@ManuelHerrera15) and Emily B. (@epb322)\n",
    "- Afternoon: Molly (@mom222) and Pierre (@pek221)\n",
    "\n",
    "![](https://media.giphy.com/media/H7x1H0veAJlo4/giphy.gif)\n",
    "\n",
    "\t"
   ]
  }
 ],
 "metadata": {
  "celltoolbar": "Tags",
  "kernelspec": {
   "display_name": "Python 3",
   "language": "python",
   "name": "python3"
  },
  "language_info": {
   "codemirror_mode": {
    "name": "ipython",
    "version": 3
   },
   "file_extension": ".py",
   "mimetype": "text/x-python",
   "name": "python",
   "nbconvert_exporter": "python",
   "pygments_lexer": "ipython3",
   "version": "3.8.5"
  }
 },
 "nbformat": 4,
 "nbformat_minor": 4
}
