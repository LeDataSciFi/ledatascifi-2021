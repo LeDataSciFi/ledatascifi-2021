{
 "cells": [
  {
   "cell_type": "markdown",
   "metadata": {},
   "source": [
    "## Merging\n",
    "\n",
    "You've already merged datasets. But so far, our examples have been \"well-behaved\" so it was easy to just proceed. But real world datasets are messy (bad variable names, poor documentation) and big, and so merging isn't always as easy as \"just do it\".\n",
    "\n",
    "### A nice overview\n",
    "\n",
    "The [Python Data Science Handbook](https://jakevdp.github.io/PythonDataScienceHandbook/03.07-merge-and-join.html) has a wonderful breakdown of the mechanics of merging. You should read it!\n",
    "\n",
    "### Important parameters of `pd.merge`\n",
    "\n",
    "Read through the [parameters of the function here](https://pandas.pydata.org/pandas-docs/stable/reference/api/pandas.DataFrame.merge.html). \n",
    "\n",
    "**Key functions:**\n",
    "- `right`, `left` - your datasets\n",
    "- `on` - a single variable or a list of variables you're matching\n",
    "    - if the variable names aren't the same in the datasets (e.g. \"ID\" in one and \"identity\" in the other), use `left_on` and `right_on`\n",
    "- `how` =\n",
    "    - \"inner\" --> obs in both datasets \n",
    "    - \"left\" --> inner + all unmatched obs in left \n",
    "    - \"right\" (inner + all unmatched obs in right), right, outer\n",
    "    - \"left\" (inner + all unmatched obs in left), right, outer\n",
    "- `suffix` = when a variable is in both datasets, how should we name each. \n",
    "    - **It's a good idea to always use this option and specific the source, because the default option is uninformative! **\n",
    "- `indicator=True` will create a variable saying which dataset the variable came from\n",
    "\n",
    "**How many observations will my merge produce?**\n",
    "\n",
    "It depends on `how` you merge the datasets. But also, any time you merge datasets, you should think about the variables you're merging `on` (the \"keys\") and ask:\n",
    "1. Is it 1 observation per key in one, both, or neither? \n",
    "2. Am I doing 1:1, 1:M, M:1, or M:M merge? The differences are huge!\n",
    "3. Related: What's the \"observation level\" before and after? Which variables will be at different levels?\n",
    "2. Is the key ever empty in either datasets? \n",
    "\n",
    "Copy the datasets below. Let's try merging different combinations and see what happens.\n",
    "\n",
    "Let's also see what happens when we repeat a merge or try to merge in a dataset with a variable of the same name."
   ]
  },
  {
   "cell_type": "code",
   "execution_count": null,
   "metadata": {},
   "outputs": [],
   "source": [
    "import pandas as pd\n",
    "# this \"firm\" variable is really \"last firm\" but the database manager called it what they called it \n",
    "# and now IT is scared that fixing it will break all their systems, so it's \"stuck as-is\"\n",
    "some_employees = pd.DataFrame({'employee': ['Bob', 'Jake', 'Lisa', 'Sue'],\n",
    "                    'firm': ['Citi','GS','Accenture','Wells Fargo'],\n",
    "                    'group': ['Accounting', 'Engineering', 'Engineering', 'HR'],\n",
    "                    'hire_date': [2004, 2008, 2012, 2014]})\n",
    "\n",
    "departments = pd.DataFrame({'group': ['Accounting', 'Engineering', 'HR'],\n",
    "                    'employees': [100,200,1] })\n",
    "\n",
    "current_employer = pd.DataFrame({'employee': ['Bob', 'Jake', 'Lisa', 'Sue'],\n",
    "                    'firm': ['Yahoo','Yahoo','Yahoo','Yahoo'],\n",
    "\n",
    "some_employees_alt = pd.DataFrame({'employee': ['Jonathan', 'Mary', 'Lisa', 'Sue'],\n",
    "                    'firm': ['?','Lehigh','Accenture','Wells Fargo'],\n",
    "                    'group': ['Accounting', 'CEO', 'Engineering', 'HR'],\n",
    "                    'hire_date': [2010, 2019, 2012, 2014]})\n",
    "\n"
   ]
  },
  {
   "cell_type": "code",
   "execution_count": 1,
   "metadata": {},
   "outputs": [],
   "source": [
    "import pandas as pd"
   ]
  },
  {
   "cell_type": "code",
   "execution_count": null,
   "metadata": {},
   "outputs": [],
   "source": [
    "pd.merge()"
   ]
  },
  {
   "cell_type": "markdown",
   "metadata": {},
   "source": [
    "### Good merging habits\n",
    "\n",
    "1. Specify `how` and `suffix`. \n",
    "2. Before the merge think about (1) the observation levels in the left and right (2) `how` you're merging and (3) whether you think the merge is 1:1, 1:M, M:M, or M:1. Guess how many observations you'll have (more or less than left? more or less than right or left?) and then check afterwards. \n",
    "3. Look at the data! _(Example: In the golden rules lecture \"Good and Bad Data\" example, if we merged the firm-level data to the firm-year level data, check that \"GM\"'s first year is matched to all annual observations for GM.)_\n",
    "4. `describe()` the data and look at \"count\" for each variable (and also `isnull().sum()` to count missing observations). Does the count make sense?\n",
    "    - Repeat this for each section of the merged dataset (the observations from the left data, from the right data, and from both). For example,  `df.query('_merge != \"right_only\").describe()` will describe the merged dataset's observations from the left data. \n",
    "5. Going forward, remember the new observation level. I often actively name the dataframe to remind myself exactly that. For example, I know exactly how `state_industry_year_df` and `state_industry_df` should differ.      \n",
    "    \n"
   ]
  },
  {
   "cell_type": "markdown",
   "metadata": {},
   "source": [
    "## Dealing With Missing Values"
   ]
  },
  {
   "cell_type": "markdown",
   "metadata": {},
   "source": [
    "1. `df.isnull().sum` will report missing values by variable.\n",
    "2. With new datasets, look out for \"missing values\" that aren't missing. Some datasets use a certain number to indicate missing data (i.e. -99). Convert these to NaNs with `replace`. \n",
    "\n",
    "[These slides](https://github.com/matthewbrems/ODSC-missing-data-may-18/blob/master/Analysis%20with%20Missing%20Data.pdf) on missing data are quite good! [This article](https://www.geeksforgeeks.org/working-with-missing-data-in-pandas/) has examples too.\n",
    "\n",
    "**You should focus on the whys and hows of dealing with missing data rather than mechanics.**\n",
    "(You can look up mechanics later.)\n",
    "\n",
    "For example, with firm level data that investment analysts deal with, the most common approach is to keep all valid data, and for each test you run, use all observations that have no missing values for the variables of interest. In the slides, this is called \"Complete-Case Analysis\". \n",
    "\n",
    "It is less common in my field of research to impute missing values. However, \"Deductive imputation\" is common\n",
    "when the cost of doing so isn't high. \n",
    "\n",
    "In general, when you can confidently deduce a value (my height this year is the same as last year because I'm a fully grown adult (mostly)), go ahead.  That is valid data.\n",
    "\n",
    "### Options\n",
    "\n",
    "- `fillna` - any value (strings included) you want, back fill, forward, fill, and more\n",
    "- `dropna` - might not be explicitly needed, some functions ignore NaNs, but some don't. I tend to drop only as needed for a given estimation, and only temporarily. \n",
    "- `replace` - some datasets use a certain number to indicate missing data (i.e. -99). Convert these to NaN with this function.\n",
    "- `interpolate` - e.g. use values in surrounding time periods to fill in gaps\n",
    "- Deduce. Suppose PPE this year is missing. $PPE_t = PPE_{t-1} + CAPX_t - DP_t $\n",
    "\n",
    "Copy the following code into your live code and we can try a few things:"
   ]
  },
  {
   "cell_type": "code",
   "execution_count": null,
   "metadata": {},
   "outputs": [],
   "source": [
    "import pandas as pd\n",
    "import numpy as np\n",
    "\n",
    "df = pd.DataFrame({\"A\":[12, 4, 5, None, 1], \n",
    "                   \"B\":[None, 2, 54, 3, None], \n",
    "                   \"C\":[20, 16, None, 3, 8], \n",
    "                   \"D\":[14, 3, None, None, 6]}) "
   ]
  }
 ],
 "metadata": {
  "kernelspec": {
   "display_name": "Python 3",
   "language": "python",
   "name": "python3"
  },
  "language_info": {
   "codemirror_mode": {
    "name": "ipython",
    "version": 3
   },
   "file_extension": ".py",
   "mimetype": "text/x-python",
   "name": "python",
   "nbconvert_exporter": "python",
   "pygments_lexer": "ipython3",
   "version": "3.8.5"
  }
 },
 "nbformat": 4,
 "nbformat_minor": 4
}
