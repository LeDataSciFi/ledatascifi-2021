{
 "cells": [
  {
   "cell_type": "markdown",
   "metadata": {},
   "source": [
    "\n",
    "When you want to customize your figures, go to these links first: [elements of a python figure](https://matplotlib.org/_images/anatomy1.png), [anatomy of a figure as \"fig\" and \"axes\" objects](https://matplotlib.org/faq/usage_faq.html#parts-of-a-figure) (How its objects are made, stored, and accessed. **Only read the \"parts of a figure\" section**), and [effective customization](https://pbpython.com/effective-matplotlib.html)"
   ]
  },
  {
   "cell_type": "markdown",
   "metadata": {},
   "source": [
    "## Practice: Examine the diamonds dataset"
   ]
  },
  {
   "cell_type": "code",
   "execution_count": null,
   "metadata": {},
   "outputs": [],
   "source": [
    "diamonds = sns.load_dataset('diamonds')\n",
    "diamonds # notice shape, unit, key, etc...\n",
    "\n",
    "# my turn: lets do the usual immediate explorations including the categorical vars\n",
    "\n",
    "# my turn: explore carats - how many are 0.99 vs 1 carat? why?\n",
    "\n",
    "# explore dist of x, y, z: what did you learn? which is width, length, depth?\n",
    "\n",
    "# your turn: explore price - is there anything unusual? (HINT: try many bin widths)\n",
    "\n",
    "# my turn: how is carat related to price?\n",
    "\n",
    "# your turn: how is price related to cut?\n",
    "\n",
    "# how should we deal with outliers? delete obs? replace with nan? winsorize? show each...\n",
    "\n",
    "\n"
   ]
  },
  {
   "cell_type": "code",
   "execution_count": null,
   "metadata": {
    "tags": [
     "remove_input",
     "remove_output"
    ]
   },
   "outputs": [],
   "source": [
    "# y has large outliers... boxplot that thing...\n",
    "\n",
    "# one var pokes\n",
    "\n",
    "diamonds['cut'].value_counts().plot.bar()\n",
    "plt.clf() # clear the fig\n",
    "diamonds['clarity'].value_counts()[:10].plot.bar()\n",
    "plt.clf()\n",
    "sns.countplot(diamonds['carat'])    # ouch, ugly ... why?   (count plot not good for a continuous variable)\n",
    "plt.clf()\n",
    "sns.distplot(diamonds['carat'])     # better... lets try kde/hist separately\n",
    "plt.clf()\n",
    "sns.distplot(diamonds['carat'],hist=False) \n",
    "plt.clf()\n",
    "sns.distplot(diamonds['carat'],kde=False)             # hmm.... something weird is going on here\n",
    "plt.clf()\n",
    "sns.distplot(diamonds['carat'],kde=False,bins=np.arange(0.2, 2.05, 0.05).tolist())             \n",
    "plt.clf()\n",
    "sns.boxplot(x=\"carat\", data=diamonds)\n",
    "plt.clf()\n",
    "sns.boxplot(x=\"price\", data=diamonds)\n",
    "plt.clf()\n",
    "\n",
    "# one var, by group\n",
    "sns.boxplot(x='cut', y=\"price\", data=diamonds)\n",
    "\n",
    "# two vars\n",
    "plt.clf()\n",
    "sns.scatterplot(x=\"carat\", y=\"price\", data=diamonds)\n",
    "plt.clf()\n",
    "sns.jointplot(x=\"carat\", y=\"price\", data=diamonds)    # very similar\n",
    "plt.clf()\n",
    "sns.jointplot(x=\"carat\", y=\"price\", data=diamonds, kind=\"kde\") # sloooooow\n",
    "plt.clf()\n",
    "sns.jointplot(x=\"carat\", y=\"price\", data=diamonds.query('price<15000 & carat<2'), kind=\"kde\") # sloooooow\n",
    "plt.clf()\n",
    "sns.jointplot(x=\"carat\", y=\"price\", data=diamonds.query('price<10000 & carat<1.75'), kind=\"hex\") # notice the limits are very different than the scatterplot\n",
    "plt.clf()\n",
    "#sns.pairplot(diamonds) # it knows to only do the numerical variables, but thats too many\n",
    "sns.pairplot(diamonds[['carat','price','depth','table']]) # scatter plots are worse in larger datasets\n",
    "\n",
    "## two vars, by group\n",
    "sns.scatterplot(x=\"carat\", y=\"price\", data=diamonds,hue='cut')\n",
    "\n",
    "sns.distplot(x= 'price', data=diamonds,hue='cut',hist=False)"
   ]
  }
 ],
 "metadata": {
  "celltoolbar": "Tags",
  "kernelspec": {
   "display_name": "Python 3",
   "language": "python",
   "name": "python3"
  },
  "language_info": {
   "codemirror_mode": {
    "name": "ipython",
    "version": 3
   },
   "file_extension": ".py",
   "mimetype": "text/x-python",
   "name": "python",
   "nbconvert_exporter": "python",
   "pygments_lexer": "ipython3",
   "version": "3.8.5"
  }
 },
 "nbformat": 4,
 "nbformat_minor": 4
}
