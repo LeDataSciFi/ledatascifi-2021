{
 "cells": [
  {
   "cell_type": "markdown",
   "metadata": {},
   "source": [
    "## API \n",
    "\n",
    "the figure of status codes (200s = green, 400 = ?, 500 = ?)\n",
    "\n",
    "set up authentication (we already did with data.world)\n",
    "hiding API keys **Remember to protect your key! it is important for your privacy. You know, like a key**\n",
    "sending some api requests\n",
    "\n"
   ]
  },
  {
   "cell_type": "markdown",
   "metadata": {},
   "source": [
    "## Exploring webpages\n",
    "\n",
    "**Our goal:  Make a function that takes a url and returns the text (ignoring headers and notes and other stuff) of a wikipedia article.** \n",
    "\n",
    "Do this for the [Finance article](https://en.wikipedia.org/wiki/Finance). "
   ]
  },
  {
   "cell_type": "code",
   "execution_count": null,
   "metadata": {},
   "outputs": [],
   "source": [
    "## Scraping \n",
    "\n",
    "Scraping directly https://nbviewer.jupyter.org/github/nealcaren/ScrapingData/blob/master/Notebooks/6_Web.ipynb\n",
    "•\tPandas can scrape if data is in html (and not javascript or other!)\n",
    "•\tTry on a wiki page with multiple tables\n",
    "•\tLOTS OF GOOD TOYS\n",
    "\n",
    "\n",
    "Building up a scraper https://nbviewer.jupyter.org/github/nealcaren/ScrapingData/blob/master/Notebooks/Bonus_Downloading.ipynb \n",
    "\n",
    "### downloading and storing lots of files\n",
    "\n",
    "https://nbviewer.jupyter.org/github/nealcaren/ScrapingData/blob/master/Notebooks/Bonus_Downloading.ipynb\n",
    "\n",
    "\n",
    "from stat545:\n",
    "\n",
    "1. **J**ava**S**cript **O**bject **N**otation (JSON)\n",
    "1. e**X**tensible **M**arkup **L**anguage (XML)\n",
    "\n",
    "## Scraping\n",
    "What if data is present on a website, but isn't provided in an API at all? It is possible to grab that information too.  How easy that is to do depends a lot on the quality of the website that we are using.\n",
    "HTML is a structured way of displaying information. It is very similar in structure to XML (in fact many modern html sites are actually XHTML5, [which is also valid XML](http://www.w3.org/TR/html5/the-xhtml-syntax.html)).\n",
    "\n",
    "Two pieces of equipment:\n",
    "1. The [rvest][rvest-web] package ([CRAN][rvest-cran]; [GitHub][rvest-github]). Install via `install.packages(\"rvest)\"`.\n",
    "1. SelectorGadget: point and click CSS selectors. [Install in your browser](http://selectorgadget.com/).\n",
    "Before we go any further, [let's play a game together](http://flukeout.github.io)!\n",
    "\n",
    "## Random observations on scraping\n",
    "* Make sure you've obtained ONLY what you want! Scroll over the whole page to ensure that SelectorGadget hasn't found too many things.\n",
    "* If you are having trouble parsing, try selecting a smaller subset of the thing you are seeking (e.g. being more precise).\n",
    "                           \n",
    "**MOST IMPORTANTLY** confirm that there is NO [rOpenSci package](https://ropensci.org/packages/) and NO API before you [spend hours scraping](https://rpubs.com/aammd/kivascrape) (the [API was right here](http://build.kiva.org/)).                           "
   ]
  }
 ],
 "metadata": {
  "kernelspec": {
   "display_name": "Python 3",
   "language": "python",
   "name": "python3"
  },
  "language_info": {
   "codemirror_mode": {
    "name": "ipython",
    "version": 3
   },
   "file_extension": ".py",
   "mimetype": "text/x-python",
   "name": "python",
   "nbconvert_exporter": "python",
   "pygments_lexer": "ipython3",
   "version": "3.7.6"
  }
 },
 "nbformat": 4,
 "nbformat_minor": 2
}
